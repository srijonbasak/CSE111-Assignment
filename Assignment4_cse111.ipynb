{
 "cells": [
  {
   "cell_type": "code",
   "execution_count": 29,
   "id": "d0d9b1cb",
   "metadata": {},
   "outputs": [
    {
     "name": "stdout",
     "output_type": "stream",
     "text": [
      "Hello!\n",
      "Sam, you purchased 3 item(s):\n",
      "chips\n",
      "chocolate\n",
      "orange juice\n",
      "-----------------------------\n",
      "Hello David!\n",
      "David, you purchased 1 item(s):\n",
      "orange juice\n"
     ]
    }
   ],
   "source": [
    "#task 1\n",
    "class Customer:\n",
    "    def __init__(self,name):\n",
    "        self.name = name\n",
    "    def greet(self,name=None):\n",
    "        if name == None:\n",
    "            print('Hello!')\n",
    "        else:\n",
    "            print(f'Hello {name}!')\n",
    "    def purchase(self,*products):\n",
    "        print(f'{self.name}, you purchased {len(products)} item(s):')\n",
    "        [print(product) for product in products]\n",
    "\n",
    "\n",
    "\n",
    "customer_1 = Customer(\"Sam\")\n",
    "customer_1.greet()\n",
    "customer_1.purchase(\"chips\", \"chocolate\", \"orange juice\")\n",
    "print(\"-----------------------------\")\n",
    "customer_2 = Customer(\"David\")\n",
    "customer_2.greet(\"David\")\n",
    "customer_2.purchase(\"orange juice\")"
   ]
  },
  {
   "cell_type": "code",
   "execution_count": 31,
   "id": "b72d9a75",
   "metadata": {},
   "outputs": [
    {
     "name": "stdout",
     "output_type": "stream",
     "text": [
      "Kunfu is a Male Panda Bear who is 5 years old\n",
      "Pan Pan is a Female Panda Bear who is 3 years old\n",
      "Ming Ming is a Female Panda Bear who is 8 years old\n",
      "===========================\n",
      "Pan Pan sleeps 10 hours daily and should have Broccoli Chicken\n",
      "Kunfu sleeps 4 hours daily and should have Mixed Veggies\n",
      "Ming Ming's duration is unknown thus should have only bamboo leaves\n"
     ]
    }
   ],
   "source": [
    "#task 2\n",
    "class Panda:\n",
    "    def __init__(self,name,gender,age):\n",
    "        self.name = name\n",
    "        self.gender = gender\n",
    "        self.age = age\n",
    "    def sleep(self,hour=None):\n",
    "        if hour == None:\n",
    "            msg = f'{self.name}\\'s duration is unknown thus should have only bamboo leaves'\n",
    "        elif hour in range(3,6):\n",
    "            msg = f'{self.name} sleeps {hour} hours daily and should have Mixed Veggies'\n",
    "        elif hour in range(6,9):\n",
    "            msg = f'{self.name} sleeps {hour} hours daily and should have Eggplant & Tofu'\n",
    "        elif hour in range(9,12):\n",
    "            msg = f'{self.name} sleeps {hour} hours daily and should have Broccoli Chicken'\n",
    "        return msg\n",
    "panda1 = Panda(\"Kunfu\",\"Male\", 5)\n",
    "panda2=Panda(\"Pan Pan\",\"Female\",3)\n",
    "panda3=Panda(\"Ming Ming\",\"Female\",8)\n",
    "print(\"{} is a {} Panda Bear who is {} years old\".format(panda1.name,panda1.gender,panda1.age))\n",
    "print(\"{} is a {} Panda Bear who is {} years old\".format(panda2.name,panda2.gender,panda2.age))\n",
    "print(\"{} is a {} Panda Bear who is {} years old\".format(panda3.name,panda3.gender,panda3.age))\n",
    "print(\"===========================\")\n",
    "print(panda2.sleep(10))\n",
    "print(panda1.sleep(4))\n",
    "print(panda3.sleep())"
   ]
  },
  {
   "cell_type": "code",
   "execution_count": 33,
   "id": "2453c608",
   "metadata": {},
   "outputs": [
    {
     "name": "stdout",
     "output_type": "stream",
     "text": [
      "White is sitting\n",
      "Black is sitting\n",
      "Brown is jumping\n",
      "Red is purring\n",
      "Blue is sitting\n",
      "Purple is jumping\n"
     ]
    }
   ],
   "source": [
    "#task 3\n",
    "class Cat:\n",
    "    def __init__(self,color='White',position= 'sitting'):\n",
    "        self.color = color\n",
    "        self.possition = position\n",
    "    def printCat(self):\n",
    "        print(f'{self.color} is {self.possition}')\n",
    "    def changeColor(self,color):\n",
    "        self.color = color\n",
    "c1 = Cat()\n",
    "c2 = Cat(\"Black\")\n",
    "c3 = Cat(\"Brown\", \"jumping\")\n",
    "c4 = Cat(\"Red\", \"purring\")\n",
    "c1.printCat()\n",
    "c2.printCat()\n",
    "c3.printCat()\n",
    "c4.printCat()\n",
    "c1.changeColor(\"Blue\")\n",
    "c3.changeColor(\"Purple\")\n",
    "c1.printCat()\n",
    "c3.printCat()"
   ]
  },
  {
   "cell_type": "code",
   "execution_count": 36,
   "id": "2e364eda",
   "metadata": {},
   "outputs": [
    {
     "name": "stdout",
     "output_type": "stream",
     "text": [
      "--------------------------------\n",
      "Hello default student\n",
      "Your average quiz score is 3.3333333333333335\n",
      "--------------------------------\n",
      "Hello Harry\n",
      "Your average quiz score is 6.0\n",
      "--------------------------------\n",
      "Hello Hermione\n",
      "Your average quiz score is 9.666666666666666\n"
     ]
    }
   ],
   "source": [
    "#task 4\n",
    "class Student:\n",
    "    def __init__(self,name='default student'):\n",
    "        self.name = name\n",
    "    def quizcalc(self,*nums):\n",
    "        sums = 0\n",
    "        for num in nums:\n",
    "            sums += num\n",
    "        self.quizmark = sums/3\n",
    "    def printdetail(self):\n",
    "        print(f'Hello {self.name}')\n",
    "        print(f'Your average quiz score is {self.quizmark}')\n",
    "        \n",
    "s1 = Student()\n",
    "s1.quizcalc(10)\n",
    "print('--------------------------------')\n",
    "s1.printdetail()\n",
    "s2 = Student('Harry')\n",
    "s2.quizcalc(10,8)\n",
    "print('--------------------------------')\n",
    "s2.printdetail()\n",
    "s3 = Student('Hermione')\n",
    "s3.quizcalc(10,9,10)\n",
    "print('--------------------------------')\n",
    "s3.printdetail()"
   ]
  },
  {
   "cell_type": "code",
   "execution_count": 37,
   "id": "d7e19915",
   "metadata": {},
   "outputs": [
    {
     "name": "stdout",
     "output_type": "stream",
     "text": [
      "Name: Harry Potter \n",
      "ID: 123 \n",
      "Department: CSE \n",
      "Daily Effort: 3 hour(s) \n",
      "Suggestion: Keep up the good work!\n",
      "========================\n",
      "Name: John Wick \n",
      "ID: 456 \n",
      "Department: BBA \n",
      "Daily Effort: 2 hour(s) \n",
      "Suggestion: Should give more effort!\n",
      "========================\n",
      "Name: Naruto Uzumaki \n",
      "ID: 777 \n",
      "Department: Ninja \n",
      "Daily Effort: 6 hour(s) \n",
      "Suggestion: Excellent! Now motivate others\n"
     ]
    }
   ],
   "source": [
    "#task 5\n",
    "class Student:\n",
    "    def __init__(self,name,idd,dept=\"CSE\"):\n",
    "        self.name = name\n",
    "        self.id = idd\n",
    "        self.dept = dept\n",
    "        self.sugg = ''\n",
    "    def dailyEffort(self,num):\n",
    "        self.hour = num\n",
    "        if num <= 2:\n",
    "            self.sugg = 'Should give more effort!'\n",
    "        elif num <= 4:\n",
    "            self.sugg = 'Keep up the good work!'\n",
    "        else:\n",
    "            self.sugg = 'Excellent! Now motivate others'\n",
    "    def printDetails(self):\n",
    "        print(f'Name: {self.name} \\nID: {self.id} \\nDepartment: {self.dept} \\nDaily Effort: {self.hour} hour(s) \\nSuggestion: {self.sugg}')\n",
    "harry = Student('Harry Potter', 123)\n",
    "harry.dailyEffort(3)\n",
    "harry.printDetails()\n",
    "print('========================')\n",
    "john = Student(\"John Wick\", 456, \"BBA\")\n",
    "john.dailyEffort(2)\n",
    "john.printDetails()\n",
    "print('========================')\n",
    "naruto = Student(\"Naruto Uzumaki\", 777, \"Ninja\")\n",
    "naruto.dailyEffort(6)\n",
    "naruto.printDetails()"
   ]
  },
  {
   "cell_type": "code",
   "execution_count": 41,
   "id": "c069c77a",
   "metadata": {},
   "outputs": [
    {
     "name": "stdout",
     "output_type": "stream",
     "text": [
      "=========================\n",
      "Name: Thomas \n",
      "Age: 23 \n",
      "Symptoms: Headache\n",
      "=========================\n",
      "Name: Carol \n",
      "Age: 20 \n",
      "Symptoms: Vomiting, Coughing\n",
      "=========================\n",
      "Name: Mike \n",
      "Age: 25 \n",
      "Symptoms: Fever, Headache, Coughing\n"
     ]
    }
   ],
   "source": [
    "#task 6\n",
    "class Patient:\n",
    "    def __init__(self,name,age):\n",
    "        self.name = name\n",
    "        self.age = age\n",
    "        self.sym = ''\n",
    "    def add_Symptom(self,*syms):\n",
    "        for sym in syms:\n",
    "            self.sym += sym + ', '\n",
    "    def printPatientDetail(self):\n",
    "        print(f'Name: {self.name} \\nAge: {self.age} \\nSymptoms: {self.sym[:-2]}')\n",
    "p1 = Patient('Thomas', 23)\n",
    "p1.add_Symptom('Headache')\n",
    "p2 = Patient('Carol', 20)\n",
    "p2.add_Symptom('Vomiting', 'Coughing')\n",
    "p3 = Patient('Mike', 25)\n",
    "p3.add_Symptom('Fever', 'Headache', 'Coughing')\n",
    "print(\"=========================\")\n",
    "p1.printPatientDetail()\n",
    "print(\"=========================\")\n",
    "p2.printPatientDetail()\n",
    "print(\"=========================\")\n",
    "p3.printPatientDetail()"
   ]
  },
  {
   "cell_type": "code",
   "execution_count": 43,
   "id": "0bc414a8",
   "metadata": {},
   "outputs": [
    {
     "name": "stdout",
     "output_type": "stream",
     "text": [
      "5..4..3..2..1.. Play !!!\n",
      "=========================\n",
      "Batting Team: Rangpur Riders \n",
      "Bowling Team: Cumilla Victorians \n",
      "Total Runs: 11 Wickets: 0 Overs: 1\n",
      "=========================\n",
      "Warning! Cannot add 5 over/s (5 over match)\n",
      "=========================\n",
      "Batting Team: Rangpur Riders \n",
      "Bowling Team: Cumilla Victorians \n",
      "Total Runs: 11 Wickets: 1 Overs: 1\n"
     ]
    }
   ],
   "source": [
    "#task 7\n",
    "class Match:\n",
    "    def __init__(self,teams):\n",
    "        self.bat = teams.split('-')[0]\n",
    "        self.ball = teams.split('-')[1]\n",
    "        self.run = 1\n",
    "        self.over = 0\n",
    "        self.wicket = 0\n",
    "        print('5..4..3..2..1.. Play !!!')\n",
    "    def add_run(self,run):\n",
    "        self.run += run\n",
    "    def add_over(self,over):\n",
    "        if self.over + over > 5 :\n",
    "            print(f'Warning! Cannot add {over} over/s (5 over match)')\n",
    "        else:\n",
    "            self.over += over\n",
    "    def add_wicket(self,wicket):\n",
    "        self.wicket += wicket\n",
    "    def print_scoreboard(self):\n",
    "        return f'Batting Team: {self.bat} \\nBowling Team: {self.ball} \\nTotal Runs: {self.run} Wickets: {self.wicket} Overs: {self.over}'\n",
    "match1 = Match(\"Rangpur Riders-Cumilla Victorians\")\n",
    "print(\"=========================\")\n",
    "match1.add_run(4)\n",
    "match1.add_run(6)\n",
    "match1.add_over(1)\n",
    "print(match1.print_scoreboard())\n",
    "print(\"=========================\")\n",
    "match1.add_over(5)\n",
    "print(\"=========================\")\n",
    "match1.add_wicket(1)\n",
    "print(match1.print_scoreboard())"
   ]
  },
  {
   "cell_type": "code",
   "execution_count": 4,
   "id": "cacfbd01",
   "metadata": {},
   "outputs": [
    {
     "name": "stdout",
     "output_type": "stream",
     "text": [
      "**********************\n",
      "Customer Name: No Name Set \n",
      "Product Weight: 0 \n",
      "Total fee: 0\n",
      "**********************\n",
      "Customer Name: Bob The Builder \n",
      "Product Weight: 0 \n",
      "Total fee: 0\n",
      "----------------------------\n",
      "Customer Name: Bob The Builder \n",
      "Product Weight: 15 \n",
      "Total fee: 350\n",
      "**********************\n",
      "Customer Name: Dora The Explorer \n",
      "Product Weight: 10 \n",
      "Total fee: 300\n"
     ]
    }
   ],
   "source": [
    "#task 8\n",
    "class ParcelKoro:\n",
    "    def __init__(self,name='No Name Set', weight = 0,fee = 0):\n",
    "        self.name = name\n",
    "        self.product_weight = weight\n",
    "        self.fee = fee\n",
    "    def printDetails(self):\n",
    "        print(f'Customer Name: {self.name} \\nProduct Weight: {self.product_weight} \\nTotal fee: {self.fee}')\n",
    "    def calculateFee(self, location = None):\n",
    "        if self.product_weight != 0:\n",
    "            if location == None:\n",
    "                self.fee = (self.product_weight*20)+50\n",
    "            else:\n",
    "                self.fee = (self.product_weight*20) + 100\n",
    "        else:\n",
    "            self.fee = 0\n",
    "            \n",
    "        \n",
    "print(\"**********************\")\n",
    "p1 = ParcelKoro()\n",
    "p1.calculateFee()\n",
    "p1.printDetails()\n",
    "print(\"**********************\")\n",
    "p2 = ParcelKoro('Bob The Builder')\n",
    "p2.calculateFee()\n",
    "p2.printDetails()\n",
    "print(\"----------------------------\")\n",
    "p2.product_weight = 15\n",
    "p2.calculateFee()\n",
    "p2.printDetails()\n",
    "print(\"**********************\")\n",
    "p3 = ParcelKoro('Dora The Explorer', 10)\n",
    "p3.calculateFee('Dhanmondi')\n",
    "p3.printDetails()"
   ]
  },
  {
   "cell_type": "code",
   "execution_count": 8,
   "id": "8734f853",
   "metadata": {},
   "outputs": [
    {
     "name": "stdout",
     "output_type": "stream",
     "text": [
      "Name: New Batsman \n",
      "Runs Scored: 6101 , Balls Faced: 7380\n",
      "============================\n",
      "Name: Liton Das \n",
      "Runs Scored: 678 , Balls Faced: 773\n",
      "----------------------------\n",
      "87.71021992238033\n",
      "============================\n",
      "Name: Shakib Al Hasan \n",
      "Runs Scored: 6101 , Balls Faced: 7380\n",
      "----------------------------\n",
      "82.66937669376694\n"
     ]
    }
   ],
   "source": [
    "#task 9\n",
    "class Batsman:\n",
    "    def __init__(self,name,run, ball=None):\n",
    "        trg = name,run,ball\n",
    "        if None not in trg:\n",
    "            self.name = name\n",
    "            self.run = run\n",
    "            self.ball = ball\n",
    "        else:\n",
    "            self.name = 'New Batsman'\n",
    "            self.run = name\n",
    "            self.ball = run\n",
    "    def printCareerStatistics(self):\n",
    "        print(f'Name: {self.name} \\nRuns Scored: {self.run} , Balls Faced: {self.ball}')\n",
    "    def battingStrikeRate(self):\n",
    "        self.strikerate = (self.run/self.ball)*100\n",
    "        return self.strikerate\n",
    "    def setName(self,name):\n",
    "        self.name = name\n",
    "b1 = Batsman(6101, 7380)\n",
    "b1.printCareerStatistics()\n",
    "print(\"============================\")\n",
    "b2 = Batsman(\"Liton Das\", 678, 773)\n",
    "b2.printCareerStatistics()\n",
    "print(\"----------------------------\")\n",
    "print(b2.battingStrikeRate())\n",
    "print(\"============================\")\n",
    "b1.setName(\"Shakib Al Hasan\")\n",
    "b1.printCareerStatistics()\n",
    "print(\"----------------------------\")\n",
    "print(b1.battingStrikeRate())"
   ]
  },
  {
   "cell_type": "code",
   "execution_count": 10,
   "id": "2aada29c",
   "metadata": {},
   "outputs": [
    {
     "name": "stdout",
     "output_type": "stream",
     "text": [
      "===================\n",
      "Name: Manchester United \n",
      "Song: Glory Glory Man United \n",
      "No of title: 0\n",
      "##################\n",
      "Name: Manchester United \n",
      "Song: Glory Glory Man United \n",
      "No of title: 1\n",
      "===================\n",
      "Name: Chelsea \n",
      "Song: No Slogan \n",
      "No of title: 0\n",
      "Name: Chelsea \n",
      "Song: Keep the blue flag flying high \n",
      "No of title: 0\n"
     ]
    }
   ],
   "source": [
    "#task 10\n",
    "class EPL_Team:\n",
    "    def __init__(self,name,song = \"No Slogan\"):\n",
    "        self.name = name\n",
    "        self.song = song\n",
    "        self.title = 0\n",
    "    def increaseTitle(self):\n",
    "        self.title += 1\n",
    "    def changeSong(self,song):\n",
    "        self.song = song\n",
    "    def showClubInfo(self):\n",
    "        return (f'Name: {self.name} \\nSong: {self.song} \\nNo of title: {self.title}')\n",
    "\n",
    "manu = EPL_Team('Manchester United', 'Glory Glory Man United') \n",
    "chelsea = EPL_Team('Chelsea') \n",
    "print('===================') \n",
    "print(manu.showClubInfo())\n",
    "print('##################') \n",
    "manu.increaseTitle() \n",
    "print(manu.showClubInfo()) \n",
    "print('===================') \n",
    "print(chelsea.showClubInfo()) \n",
    "chelsea.changeSong('Keep the blue flag flying high') \n",
    "print(chelsea.showClubInfo())"
   ]
  },
  {
   "cell_type": "code",
   "execution_count": 18,
   "id": "5f5308b1",
   "metadata": {},
   "outputs": [
    {
     "name": "stdout",
     "output_type": "stream",
     "text": [
      "Author Name: Humayun Ahmed \n",
      "-------- \n",
      "List of Books: \n",
      "Deyal\n",
      "Megher Opor Bari\n",
      "===================\n",
      "Default\n",
      "===================\n",
      "Author Name: Mario Puzo \n",
      "-------- \n",
      "List of Books: \n",
      "The Godfather\n",
      "Omerta\n",
      "The Sicilian\n",
      "===================\n",
      "Author Name: Paolo Coelho \n",
      "-------- \n",
      "List of Books: \n",
      "The Alchemist\n",
      "The Fifth Mountain\n"
     ]
    }
   ],
   "source": [
    "#task 11\n",
    "class Author:\n",
    "    def __init__(self,name=\"Default\",*books):\n",
    "        self.name = name\n",
    "        self.books = []\n",
    "        for book in books:\n",
    "            self.books.append(book)\n",
    "    def addBooks(self,*books):\n",
    "        for book in books:\n",
    "            self.books.append(book)\n",
    "    def changeName(self,name):\n",
    "        self.name = name\n",
    "    def printDetails(self):\n",
    "        books = ''\n",
    "        for book in self.books:\n",
    "            books +='\\n' +book \n",
    "        print(f'Author Name: {self.name} \\n-------- \\nList of Books: {books}')\n",
    "        \n",
    "auth1 = Author('Humayun Ahmed')\n",
    "auth1.addBooks('Deyal', 'Megher Opor Bari')\n",
    "auth1.printDetails()\n",
    "print('===================')\n",
    "auth2 = Author()\n",
    "print(auth2.name)\n",
    "auth2.changeName('Mario Puzo')\n",
    "auth2.addBooks('The Godfather', 'Omerta', 'The Sicilian')\n",
    "print('===================')\n",
    "auth2.printDetails()\n",
    "print('===================')\n",
    "auth3 = Author('Paolo Coelho', 'The Alchemist', 'The Fifth Mountain')\n",
    "auth3.printDetails()"
   ]
  },
  {
   "cell_type": "code",
   "execution_count": 12,
   "id": "636a0cf9",
   "metadata": {},
   "outputs": [],
   "source": [
    "#task 12\n",
    "taxi1 = TaxiLagbe('1010-01', 'Dhaka')\n",
    "print('-------------------------------')\n",
    "taxi1.addPassenger('Walker_100', 'Wood_200')\n",
    "taxi1.addPassenger('Matt_100')\n",
    "taxi1.addPassenger('Wilson_105')\n",
    "print('-------------------------------')\n",
    "taxi1.printDetails()\n",
    "print('-------------------------------')\n",
    "taxi1.addPassenger('Karen_200')\n",
    "print('-------------------------------')\n",
    "taxi1.printDetails()\n",
    "print('-------------------------------')\n",
    "taxi2 = TaxiLagbe('1010-02', 'Khulna')\n",
    "taxi2.addPassenger('Ronald_115')\n",
    "taxi2.addPassenger('Parker_215')\n",
    "print('-------------------------------')\n",
    "taxi2.printDetails()"
   ]
  },
  {
   "cell_type": "code",
   "execution_count": 13,
   "id": "63c84a87",
   "metadata": {},
   "outputs": [],
   "source": [
    "#task "
   ]
  },
  {
   "cell_type": "code",
   "execution_count": 14,
   "id": "1f1cecda",
   "metadata": {},
   "outputs": [],
   "source": [
    "#task "
   ]
  },
  {
   "cell_type": "code",
   "execution_count": 15,
   "id": "06f12e03",
   "metadata": {},
   "outputs": [],
   "source": [
    "#task "
   ]
  },
  {
   "cell_type": "code",
   "execution_count": 16,
   "id": "b0a773b9",
   "metadata": {},
   "outputs": [],
   "source": [
    "#task "
   ]
  },
  {
   "cell_type": "code",
   "execution_count": 17,
   "id": "81c1b7d2",
   "metadata": {},
   "outputs": [],
   "source": [
    "#task "
   ]
  },
  {
   "cell_type": "code",
   "execution_count": 18,
   "id": "d6a06e45",
   "metadata": {},
   "outputs": [],
   "source": [
    "#task "
   ]
  },
  {
   "cell_type": "code",
   "execution_count": 19,
   "id": "dc74d590",
   "metadata": {},
   "outputs": [],
   "source": [
    "#task \n"
   ]
  },
  {
   "cell_type": "code",
   "execution_count": 20,
   "id": "aa30e396",
   "metadata": {},
   "outputs": [],
   "source": [
    "#task "
   ]
  },
  {
   "cell_type": "code",
   "execution_count": 21,
   "id": "3db12a08",
   "metadata": {},
   "outputs": [],
   "source": [
    "#task "
   ]
  },
  {
   "cell_type": "code",
   "execution_count": 22,
   "id": "4da77d29",
   "metadata": {},
   "outputs": [],
   "source": [
    "#task "
   ]
  },
  {
   "cell_type": "code",
   "execution_count": 23,
   "id": "c7a4af04",
   "metadata": {},
   "outputs": [],
   "source": [
    "#task "
   ]
  },
  {
   "cell_type": "code",
   "execution_count": 45,
   "id": "3e821173",
   "metadata": {},
   "outputs": [
    {
     "name": "stdout",
     "output_type": "stream",
     "text": [
      "=================================\n",
      "Doctor's ID: 1d\n",
      "Name:Samar Kumar\n",
      "Speciality:Neurologist\n",
      "=================================\n",
      "=================================\n",
      "Patient's ID: 1p\n",
      "Name:Kashem Ahmed\n",
      "Age:35\n",
      "Phone no.:12345\n",
      "=================================\n",
      "=================================\n",
      "Patient's ID: 2p\n",
      "Name:Tanina Haque\n",
      "Age:26\n",
      "Phone no.:33456\n",
      "=================================\n",
      "All Doctors:\n",
      "Number of Doctors: 1\n",
      "{'1d': ['Samar Kumar', 'Neurologist']}\n",
      "All Patients:\n",
      "Number of Patients: 2\n",
      "{'1p': ['Kashem Ahmed', 35, 12345], '2p': ['Tanina Haque', 26, 33456]}\n"
     ]
    }
   ],
   "source": [
    "#task 24\n",
    "class Hospital():\n",
    "    #init\n",
    "    def __init__(self,hospital):\n",
    "        self.hospital = hospital\n",
    "        self.doctors = {}\n",
    "        self.patients = {}\n",
    "        self.msg = ''\n",
    "\n",
    "    #doctor\n",
    "    def addDoctor(self, id1):\n",
    "        self.doctors[id1.id] = [id1.name, id1.type ]\n",
    "\n",
    "    def getDoctorByID(self, id1):\n",
    "        return f'Doctor\\'s ID: {id1}\\nName:{self.doctors[id1][0]}\\nSpeciality:{self.doctors[id1][1]}'\n",
    "\n",
    "    #patient\n",
    "    def addPatient(self, id2):\n",
    "        self.patients[id2.id] = [id2.name, id2.age, id2.no]\n",
    "\n",
    "    def getPatientByID(self, id2):\n",
    "        return f'Patient\\'s ID: {id2}\\nName:{self.patients[id2][0]}\\nAge:{self.patients[id2][1]}\\nPhone no.:{self.patients[id2][2]}'\n",
    "\n",
    "    #print all\n",
    "    def allDoctors(self):\n",
    "        print(f'All Doctors:\\nNumber of Doctors: {len(self.doctors)}\\n{self.doctors}')\n",
    "\n",
    "    def allPatients(self):\n",
    "        print(f'All Patients:\\nNumber of Patients: {len(self.patients)}\\n{self.patients}')\n",
    "\n",
    "class Doctor():\n",
    "    def __init__(self, id, job, name, type):\n",
    "        self.id = id\n",
    "        self.job = job\n",
    "        self.name = name\n",
    "        self.type = type\n",
    "\n",
    "class Patient():\n",
    "    def __init__(self, idd, job, name, age, no):\n",
    "        self.id = idd\n",
    "        self.job = job\n",
    "        self.name = name\n",
    "        self.age = age\n",
    "        self.no = no\n",
    "\n",
    "h = Hospital(\"Evercare\")\n",
    "d1 = Doctor(\"1d\",\"Doctor\", \"Samar Kumar\", \"Neurologist\")\n",
    "h.addDoctor(d1)\n",
    "print(\"=================================\")\n",
    "print(h.getDoctorByID(\"1d\"))\n",
    "print(\"=================================\")\n",
    "p1 = Patient(\"1p\",\"Patient\", \"Kashem Ahmed\", 35, 12345)\n",
    "h.addPatient(p1)\n",
    "print(\"=================================\")\n",
    "print(h.getPatientByID(\"1p\"))\n",
    "print(\"=================================\")\n",
    "p2 = Patient (\"2p\",\"Patient\", \"Tanina Haque\", 26, 33456)\n",
    "h.addPatient(p2)\n",
    "print(\"=================================\")\n",
    "print(h.getPatientByID(\"2p\"))\n",
    "print(\"=================================\")\n",
    "h.allDoctors()\n",
    "h.allPatients()"
   ]
  },
  {
   "cell_type": "code",
   "execution_count": 25,
   "id": "bf9f9cdf",
   "metadata": {},
   "outputs": [],
   "source": [
    "#task "
   ]
  },
  {
   "cell_type": "code",
   "execution_count": null,
   "id": "73cd577e",
   "metadata": {},
   "outputs": [],
   "source": []
  }
 ],
 "metadata": {
  "kernelspec": {
   "display_name": "Python 3 (ipykernel)",
   "language": "python",
   "name": "python3"
  },
  "language_info": {
   "codemirror_mode": {
    "name": "ipython",
    "version": 3
   },
   "file_extension": ".py",
   "mimetype": "text/x-python",
   "name": "python",
   "nbconvert_exporter": "python",
   "pygments_lexer": "ipython3",
   "version": "3.9.7"
  }
 },
 "nbformat": 4,
 "nbformat_minor": 5
}
