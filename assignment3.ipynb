{
 "cells": [
  {
   "cell_type": "markdown",
   "metadata": {
    "id": "b7uKIWHOw8AE"
   },
   "source": [
    "```\n",
    "#Question 1\n",
    "Write a class that for running the following codes:\n",
    "[You are not allowed to change the code below]\n",
    "#Write your class code here\n",
    "data_type1 = DataType(‘Integer’, 1234)\n",
    "print(data_type1.name)\n",
    "print(data_type1.value)\n",
    "print('=====================')\n",
    "data_type2 = DataType(‘String’, ‘Hello’)\n",
    "print(data_type2.name)\n",
    "print(data_type2.value)\n",
    "print('=====================')\n",
    "data_type3 = DataType(‘Float’, 4.0)\n",
    "print(data_type3.name)\n",
    "print(data_type3.value)\n",
    "Output:\n",
    "Integer\n",
    "1234 \n",
    "=====================\n",
    "String\n",
    "Hello \n",
    "=====================\n",
    "Float\n",
    "4.0\n",
    "Subtasks:\n",
    "1. Create a class named DataType with the required constructor.\n",
    "2. Assign name and values in constructor according to the output.\n",
    "\n",
    "```\n",
    "\n"
   ]
  },
  {
   "cell_type": "code",
   "execution_count": 3,
   "metadata": {
    "id": "_NM7mnlixhqF"
   },
   "outputs": [
    {
     "name": "stdout",
     "output_type": "stream",
     "text": [
      "Integer\n",
      "1234\n",
      "=====================\n",
      "String\n",
      "Hello\n",
      "=====================\n",
      "Float\n",
      "4.0\n"
     ]
    }
   ],
   "source": [
    "class DataType():\n",
    "    \n",
    "    def __init__(self,name,value):\n",
    "        self.name = name\n",
    "        self.value = value\n",
    "\n",
    "data_type1 = DataType('Integer', 1234)\n",
    "print(data_type1.name)\n",
    "print(data_type1.value)\n",
    "print('=====================')\n",
    "data_type2 = DataType('String', \"Hello\")\n",
    "print(data_type2.name)\n",
    "print(data_type2.value)\n",
    "print('=====================')\n",
    "data_type3 = DataType('Float', 4.0)\n",
    "print(data_type3.name)\n",
    "print(data_type3.value)"
   ]
  },
  {
   "cell_type": "markdown",
   "metadata": {
    "id": "9DTz3tlHx3oB"
   },
   "source": [
    "```\n",
    "Design a class called Flower with the instance variables so that after executing the following line of code the desired result shown in the output box will be printed.\n",
    "[You are not allowed to change the code below]\n",
    "#Write your class code here\n",
    "`flower1 = Flower() \n",
    "flower1.name=\"Rose\"\n",
    "flower1.color=\"Red\" \n",
    "flower1.num_of_petal=6\n",
    "print(\"Name of this flower:\", flower1.name) \n",
    "print(\"Color of this flower:\",flower1.color) \n",
    "print(\"Number of petal:\",flower1.num_of_petal) \n",
    "print(“=====================”) \n",
    "flower2 = Flower() \n",
    "flower2.name=\"Orchid\" \n",
    "flower2.color=\"Purple\" \n",
    "flower2.num_of_petal=4 \n",
    "print(\"Name of this flower:\",flower2.name) \n",
    "print(\"Color of this flower:\",flower2.color) \n",
    "print(\"Number of petal:\",flower2. num_of_petal)`\n",
    "#Write the code for subtask 2 and 3 here\n",
    "Output:\n",
    "Name of this flower: Rose Color of this flower: Red Number of petal: 6 =====================\n",
    " Name of this flower: Orchid Color of this flower: Purple Number of petal: 4\n",
    "Subtask:\n",
    "1) Design the class Flower with default constructor to get the above output.\n",
    "2) At the end of the given code, also print the address of flower1 and flower2 objects.\n",
    "3) Do they point to the same address? Print (‘they are same’ or ‘they are different’) at the very end to answer this question.\n",
    "\n",
    "\n",
    "```\n",
    "\n"
   ]
  },
  {
   "cell_type": "code",
   "execution_count": 14,
   "metadata": {
    "id": "drNKMHSkyDVv"
   },
   "outputs": [
    {
     "name": "stdout",
     "output_type": "stream",
     "text": [
      "Name of this flower: Rose\n",
      "Color of this flower: Red\n",
      "Number of petal: 6\n",
      "=====================\n",
      "Name of this flower: Orchid\n",
      "Color of this flower: Purple\n",
      "Number of petal: 4\n"
     ]
    }
   ],
   "source": [
    "class Flower():\n",
    "    def __init__(self):\n",
    "        self.name = None\n",
    "        self.color = None\n",
    "        self.num_of_petal = None\n",
    "\n",
    "flower1 = Flower() \n",
    "flower1.name = \"Rose\"\n",
    "flower1.color = \"Red\" \n",
    "flower1.num_of_petal = 6\n",
    "print(\"Name of this flower:\", flower1.name) \n",
    "print(\"Color of this flower:\",flower1.color) \n",
    "print(\"Number of petal:\",flower1.num_of_petal) \n",
    "print(\"=====================\") \n",
    "flower2 = Flower() \n",
    "flower2.name = \"Orchid\" \n",
    "flower2.color = \"Purple\" \n",
    "flower2.num_of_petal = 4 \n",
    "print(\"Name of this flower:\",flower2.name) \n",
    "print(\"Color of this flower:\",flower2.color) \n",
    "print(\"Number of petal:\",flower2. num_of_petal)"
   ]
  },
  {
   "cell_type": "markdown",
   "metadata": {
    "id": "9HuN9cisyJ8x"
   },
   "source": [
    "```\n",
    "Question 3\n",
    "A class has been designed for this question. Solve the questions to get the desired result as shown in the output box.\n",
    "[You are not allowed to change the code below]\n",
    "class Wadiya(): \n",
    "    def __init__(self): \n",
    "        self.name = 'Aladeen' \n",
    "        self.designation = 'President Prime Minister Admiral General' \n",
    "        self.num_of_wife = 100 \n",
    "        self.dictator = True`\n",
    "#Write your code for subtask 1, 2, 3 and 4 here\n",
    "Output:\n",
    "Part 1:\n",
    "Name of President: Aladeen\n",
    "Designation: President Prime Minister Admiral General\n",
    "Number of wife: 100\n",
    "Is he/she a dictator: True\n",
    "Part 2:\n",
    "Name of President: Donald Trump\n",
    "Designation: President\n",
    "Number of wife: 1\n",
    "Is he/she a dictator: False\n",
    "Subtask:\n",
    "1) Create an object named wadiya.\n",
    "2) Use the object to print the values as shown in part 1 (Also print the sentence Part 1)\n",
    "3) Use the same object to change and print the values in part 2 (Also print the sentence Part 2)\n",
    "4) Did changing the instance variable values using the same object, affect the previous values of Part 1? (Print ‘previous information lost’ or ‘No, changing had no effect on previous value’)\n",
    "```"
   ]
  },
  {
   "cell_type": "code",
   "execution_count": 18,
   "metadata": {
    "id": "FPgAo1oUyKJO"
   },
   "outputs": [
    {
     "name": "stdout",
     "output_type": "stream",
     "text": [
      "part 1:\n",
      "Name of President: Aladeen\n",
      "Designation: President Prime Minister Admiral General\n",
      "Number of wife: 100\n",
      "Is he/she a dictator: True\n",
      "part 2:\n",
      "Name of President: Donald Trump\n",
      "Designation: President\n",
      "Number of wife: 1\n",
      "Is he/she a dictator: False\n"
     ]
    }
   ],
   "source": [
    "class Wadiya(): \n",
    "    def __init__(self): \n",
    "        self.name = 'Aladeen' \n",
    "        self.designation = 'President Prime Minister Admiral General' \n",
    "        self.num_of_wife = 100 \n",
    "        self.dictator = True\n",
    "    def view(self):\n",
    "        print(f'Name of President: {self.name}')\n",
    "        print(f'Designation: {self.designation}')\n",
    "        print(f'Number of wife: {self.num_of_wife}')\n",
    "        print(f'Is he/she a dictator: {self.dictator}')\n",
    "\n",
    "\n",
    "wadiya = Wadiya()\n",
    "print('part 1:')\n",
    "wadiya.view()\n",
    "wadiya.name = 'Donald Trump'\n",
    "wadiya.designation = 'President'\n",
    "wadiya.num_of_wife = 1\n",
    "wadiya.dictator = False\n",
    "print('part 2:')\n",
    "wadiya.view()\n",
    "        "
   ]
  },
  {
   "cell_type": "markdown",
   "metadata": {
    "id": "hExXRHENyLAQ"
   },
   "source": [
    "```\n",
    "Question 4\n",
    "Design a class Joker with parameterized constructor so that the following line of code prints the result shown in the output box.\n",
    "[You are not allowed to change the code below]\n",
    "#Write your class code here\n",
    " j1 = Joker('Heath Ledger', 'Mind Game', False) \n",
    " print(j1.name) \n",
    " print(j1.power) \n",
    " print(j1.is_he_psycho) \n",
    " print(“=====================”) \n",
    " j2 = Joker('Joaquin Phoenix', 'Laughing out Loud', True) \n",
    " print(j2.name) print(j2.power) \n",
    " print(j2.is_he_psycho) \n",
    " print(“=====================”) \n",
    " if j1 == j2: \n",
    "    print('same') \n",
    " else: \n",
    "    print('different') \n",
    " j2.name = 'Heath Ledger' \n",
    " if j1.name == j2.name:\n",
    "  print('same') \n",
    " else: \n",
    "  print('different')`\n",
    "#Write your code for 2,3 here\n",
    "\n",
    "\n",
    "Output:\n",
    "Heath Ledger\n",
    "Mind Game\n",
    "False\n",
    " =====================\n",
    "Joaquin Phoenix\n",
    "Laughing out Loud\n",
    "True\n",
    " =====================\n",
    "different\n",
    "same\n",
    "\n",
    "\n",
    "\n",
    "Subtask:\n",
    "1) Design the class using a parameterized constructor.\n",
    "2) The first if/else block prints the output as ‘different’, but why? Explain your answer and print your explanation at the very end.\n",
    "3) The second if/else block prints the output as ‘same’, but why? Explain your answer and print your explanation at the very end.\n",
    "```"
   ]
  },
  {
   "cell_type": "code",
   "execution_count": 19,
   "metadata": {
    "id": "md06Dta_yLLA"
   },
   "outputs": [
    {
     "name": "stdout",
     "output_type": "stream",
     "text": [
      "Heath Ledger\n",
      "Mind Game\n",
      "False\n",
      "=====================\n",
      "Joaquin Phoenix\n",
      "Laughing out Loud\n",
      "True\n",
      "=====================\n",
      "different\n",
      "same\n"
     ]
    }
   ],
   "source": [
    "class Joker():\n",
    "    def __init__(self,name,power,is_he_psycho):\n",
    "        self.name = name\n",
    "        self.power = power\n",
    "        self.is_he_psycho = is_he_psycho\n",
    "\n",
    "\n",
    "j1 = Joker('Heath Ledger', 'Mind Game', False)\n",
    "print(j1.name)\n",
    "print(j1.power)\n",
    "print(j1.is_he_psycho)\n",
    "print('=====================')\n",
    "j2 = Joker('Joaquin Phoenix', 'Laughing out Loud', True)\n",
    "print(j2.name)\n",
    "print(j2.power)\n",
    "print(j2.is_he_psycho)\n",
    "print('=====================')\n",
    "if j1 == j2:\n",
    "    print('same')\n",
    "else:\n",
    "    print('different')\n",
    "j2.name = 'Heath Ledger'\n",
    "if j1.name == j2.name:\n",
    "    print('same')\n",
    "else:\n",
    "    print('different')"
   ]
  },
  {
   "cell_type": "markdown",
   "metadata": {
    "id": "io0P6vZgzFpH"
   },
   "source": [
    "```\n",
    "Design a class called Pokemon using a parameterized \n",
    "constructor so that after executing the following \n",
    "line of code the desired result shown in the \n",
    "output box will be printed. First object along with \n",
    "print has been done for you, you also need to create other \n",
    "objects and print accordingly to \n",
    "get the output correctly.\n",
    "[You are not allowed to change the code below]\n",
    "#Write your code for class here\n",
    "team_pika = Pokemon('pikachu', 'charmander', 90, 60, 10) \n",
    "print('=======Team 1=======')\n",
    "print('Pokemon 1:',team_pika.pokemon1_name, team_pika.pokemon1_power)\n",
    "print('Pokemon 2:',team_pika.pokemon2_name, team_pika.pokemon2_power)\n",
    "pika_combined_power = (team_pika.pokemon1_power + team_pika.pokemon2_power) * team_pika.damage_rate \n",
    "print('Combined Power:', pika_combined_power)\n",
    "#Write your code for subtask 2,3,4 here\n",
    "\n",
    "Output:\n",
    "=======Team 1=======\n",
    "Pokemon 1: pikachu 90\n",
    "Pokemon 2: charmander 60\n",
    "Combined Power: 1500\n",
    "=======Team 2=======\n",
    "Pokemon 1: bulbasaur 80\n",
    "Pokemon 2: squirtle 70\n",
    "Combined Power: 1350\n",
    "\n",
    "Subtask:\n",
    "1) Design the Pokemon class using a parameterized constructor. The 5 values that are being passed through the constructor are pokemon 1 name, pokemon 2 name, pokemon 1 power, pokemon 2 power, damage rate respectively.\n",
    "After designing the class, if you run the above code the details in Team 1 will be printed.\n",
    "2) Create an object named team_bulb and pass the value ‘bulbasaur’, ‘squirtle’, 80, 70, 9 respectively.\n",
    "3) Use print statements accordingly to print the desired result of Team 2.\n",
    "Note: Power is always being calculated using the instance variables. Example:\n",
    "(team_pika.pokemon1_power + team_pika.pokemon2_power) * team_pika.damage_rate\n",
    "```"
   ]
  },
  {
   "cell_type": "code",
   "execution_count": 3,
   "metadata": {
    "id": "V_IadLlTzqw8"
   },
   "outputs": [
    {
     "name": "stdout",
     "output_type": "stream",
     "text": [
      "=======Team 1=======\n",
      "Pokemon 1: pikachu 90\n",
      "Pokemon 2: charmander 60\n",
      "Combined Power: 1500\n",
      "=======Team 2=======\n",
      "Pokemon 1: bulbasaur 80\n",
      "Pokemon 2: squirtle 70\n",
      "Combined Power: 1350\n"
     ]
    }
   ],
   "source": [
    "class Pokemon():\n",
    "    def __init__(self,pokemon1_name,pokemon2_name,pokemon1_power,pokemon2_power,damage_rate):\n",
    "        self.pokemon1_name = pokemon1_name\n",
    "        self.pokemon2_name = pokemon2_name\n",
    "        self.pokemon1_power = pokemon1_power\n",
    "        self.pokemon2_power = pokemon2_power\n",
    "        self.damage_rate = damage_rate\n",
    "        \n",
    "team_pika = Pokemon('pikachu', 'charmander', 90, 60, 10) \n",
    "print('=======Team 1=======')\n",
    "print('Pokemon 1:',team_pika.pokemon1_name, team_pika.pokemon1_power)\n",
    "print('Pokemon 2:',team_pika.pokemon2_name, team_pika.pokemon2_power)\n",
    "pika_combined_power = (team_pika.pokemon1_power + team_pika.pokemon2_power) * team_pika.damage_rate \n",
    "print('Combined Power:', pika_combined_power)\n",
    "team_bulb = Pokemon('bulbasaur', 'squirtle', 80, 70, 9)\n",
    "print('=======Team 2=======')\n",
    "print('Pokemon 1:',team_bulb.pokemon1_name, team_bulb.pokemon1_power)\n",
    "print('Pokemon 2:',team_bulb.pokemon2_name, team_bulb.pokemon2_power)\n",
    "pika_combined_power = (team_bulb.pokemon1_power + team_bulb.pokemon2_power) * team_bulb.damage_rate \n",
    "print('Combined Power:', pika_combined_power)"
   ]
  },
  {
   "cell_type": "markdown",
   "metadata": {
    "id": "GBJPu2RtzrBM"
   },
   "source": [
    "```\n",
    "Design the Player class so that the code gives the expected output.\n",
    "[You are not allowed to change the code below]\n",
    "# Write Your Class Code Here\n",
    "player1 = Player()\n",
    "player1.name = \"Ronaldo\"\n",
    "player1.jersy_number = 9\n",
    "player1.position = \"Striker\"\n",
    "print(\"Name of the Player:\", player1.name)\n",
    "print(\"Jersey Number of player:\", player1.jersy_number)\n",
    "print(\"Position of player:\", player1.position)\n",
    "print(“===========================”)\n",
    "player2 = Player()\n",
    "player2.name = \"Neuer\"\n",
    "player2.jersy_number = 1\n",
    "player2.position = \"Goal Keeper\"\n",
    "print(\"Name of the player:\", player2.name)\n",
    "print(\"Jersey Number of player:\", player2.jersy_number)\n",
    "print(\"Position of player:\", player2.position)\n",
    "Output:\n",
    "Name of the Player: Ronaldo\n",
    "Jersy Number of player: 9\n",
    "Position of player: Striker\n",
    "===========================\n",
    "Name of the player: Neuer\n",
    "Jersy Number of player: 1\n",
    "Position of player: Goal Keeper\n",
    "```"
   ]
  },
  {
   "cell_type": "code",
   "execution_count": 4,
   "metadata": {
    "id": "1sjjqmiGz71j"
   },
   "outputs": [
    {
     "name": "stdout",
     "output_type": "stream",
     "text": [
      "Name of the Player: Ronaldo\n",
      "Jersey Number of player: 9\n",
      "Position of player: Striker\n",
      "===========================\n",
      "Name of the player: Neuer\n",
      "Jersey Number of player: 1\n",
      "Position of player: Goal Keeper\n"
     ]
    }
   ],
   "source": [
    "class Player():\n",
    "    def __init__(self):\n",
    "        self.name = None\n",
    "        self.jersey_number = None\n",
    "        self.position = None\n",
    "\n",
    "\n",
    "\n",
    "player1 = Player()\n",
    "player1.name = \"Ronaldo\"\n",
    "player1.jersy_number = 9\n",
    "player1.position = \"Striker\"\n",
    "print(\"Name of the Player:\", player1.name)\n",
    "print(\"Jersey Number of player:\", player1.jersy_number)\n",
    "print(\"Position of player:\", player1.position)\n",
    "print('===========================')\n",
    "player2 = Player()\n",
    "player2.name = \"Neuer\"\n",
    "player2.jersy_number = 1\n",
    "player2.position = \"Goal Keeper\"\n",
    "print(\"Name of the player:\", player2.name)\n",
    "print(\"Jersey Number of player:\", player2.jersy_number)\n",
    "print(\"Position of player:\", player2.position)"
   ]
  },
  {
   "cell_type": "markdown",
   "metadata": {
    "id": "d44pKzWCz8JI"
   },
   "source": [
    "\n",
    "\n",
    "```\n",
    "Question 7\n",
    "Design the Country class so that the code gives the expected output.\n",
    "# Write your Class Code here\n",
    "country = Country()\n",
    "print('Name:',country.name)\n",
    "print('Continent:',country.continent)\n",
    "print('Capital:',country.capital)\n",
    "print('Fifa Ranking:',country.fifa_ranking)\n",
    "print('===================')\n",
    "country.name = “Belgium”\n",
    "country.continent = “Europe”\n",
    "country.capital = “Brussels”\n",
    "country.fifa_ranking = 1\n",
    "print('Name:',country.name)\n",
    "print('Continent:',country.continent)\n",
    "print('Capital:',country.capital)\n",
    "print('Fifa Ranking:',country.fifa_ranking)\n",
    "Output:\n",
    "Name: Bangladesh\n",
    "Continent: Asia\n",
    "Capital: Dhaka\n",
    "Fifa Ranking: 187\n",
    "===================\n",
    "Name: Belgium\n",
    "Continent: Europe\n",
    "Capital: Brussels\n",
    "Fifa Ranking: 1\n",
    "```\n",
    "\n"
   ]
  },
  {
   "cell_type": "code",
   "execution_count": 6,
   "metadata": {
    "id": "xWs4oV0r0EbV"
   },
   "outputs": [
    {
     "name": "stdout",
     "output_type": "stream",
     "text": [
      "Name: Bangladesh\n",
      "Continent: Asia\n",
      "Capital: Dhaka\n",
      "Fifa Ranking: 187\n",
      "===================\n",
      "Name: Belgium\n",
      "Continent: Europe\n",
      "Capital: Brussels\n",
      "Fifa Ranking: 1\n"
     ]
    }
   ],
   "source": [
    "class Country():\n",
    "    def __init__(self):\n",
    "        self.name = 'Bangladesh'\n",
    "        self.continent = 'Asia'\n",
    "        self.capital = 'Dhaka'\n",
    "        self.fifa_ranking = 187\n",
    "\n",
    "country = Country()\n",
    "print('Name:', country.name)\n",
    "print('Continent:', country.continent)\n",
    "print('Capital:', country.capital)\n",
    "print('Fifa Ranking:', country.fifa_ranking)\n",
    "print('===================')\n",
    "\n",
    "country.name = 'Belgium'\n",
    "country.continent = 'Europe'\n",
    "country.capital = 'Brussels'\n",
    "country.fifa_ranking = 1\n",
    "print('Name:', country.name)\n",
    "print('Continent:', country.continent)\n",
    "print('Capital:', country.capital)\n",
    "print('Fifa Ranking:', country.fifa_ranking)"
   ]
  },
  {
   "cell_type": "markdown",
   "metadata": {
    "id": "hMOJABYY0EpB"
   },
   "source": [
    "\n",
    "\n",
    "```\n",
    "Question 8\n",
    "Write the DemonSlayer class so that the code gives the expected output.\n",
    "# Write your Class Code here\n",
    "tanjiro = DemonSlayer(\"Tanjiro\", \"Water Breathing\", 10, 10)\n",
    "print('Name:',tanjiro.name)\n",
    "print('Fighting Style:',tanjiro.style)\n",
    "print(f'Knows {tanjiro.number_of_technique} technique(s) and has killed {tanjiro.kill} demon(s)')\n",
    "print('===================')\n",
    "zenitsu = DemonSlayer(\"Zenitsu\", \"Thunder Breathing\", 1, 4)\n",
    "print('Name:',zenitsu.name)\n",
    "print('Fighting Style:',zenitsu.style)\n",
    "print(f'Knows {zenitsu.number_of_technique} technique(s) and has killed {zenitsu.kill} demon(s)')\n",
    "print('===================')\n",
    "inosuke = DemonSlayer(\"Inosuke\", \"Beast Breathing\", 5, 7)\n",
    "print('Name:',inosuke.name)\n",
    "print('Fighting Style:',inosuke.style)\n",
    "print(f'Knows {inosuke.number_of_technique} technique(s) and has killed {inosuke.kill} demon(s)')\n",
    "print('===================')\n",
    "print(f'{tanjiro.name}, {zenitsu.name}, {inosuke.name} knows total {tanjiro.number_of_technique + zenitsu.number_of_technique + inosuke.number_of_technique} techniques')\n",
    "print(f'They have killed total {tanjiro.kill + zenitsu.kill + inosuke.kill} demons')\n",
    "Output:\n",
    "Name: Tanjiro\n",
    "Fighting Style: Water Breathing\n",
    "Knows 10 technique(s) and has killed 10 demon(s)\n",
    "===================\n",
    "Name: Zenitsu\n",
    "Fighting Style: Thunder Breathing\n",
    "Knows 1 technique(s) and has killed 4 demon(s)\n",
    "===================\n",
    "Name: Inosuke\n",
    "Fighting Style: Beast Breathing\n",
    "Knows 5 technique(s) and has killed 7 demon(s)\n",
    "===================\n",
    "Tanjiro, Zenitsu, Inosuke knows total 16 techniques\n",
    "They have killed total 21 demons\n",
    "```\n",
    "\n"
   ]
  },
  {
   "cell_type": "code",
   "execution_count": 7,
   "metadata": {
    "id": "ajuZZAYe1uxc"
   },
   "outputs": [
    {
     "name": "stdout",
     "output_type": "stream",
     "text": [
      "Name: Tanjiro\n",
      "Fighting Style: Water Breathing\n",
      "Knows 10 technique(s) and has killed 10 demon(s)\n",
      "===================\n",
      "Name: Zenitsu\n",
      "Fighting Style: Thunder Breathing\n",
      "Knows 1 technique(s) and has killed 4 demon(s)\n",
      "===================\n",
      "Name: Inosuke\n",
      "Fighting Style: Beast Breathing\n",
      "Knows 5 technique(s) and has killed 7 demon(s)\n",
      "===================\n",
      "Tanjiro, Zenitsu, Inosuke knows total 16 techniques\n",
      "They have killed total 21 demons\n"
     ]
    }
   ],
   "source": [
    "class DemonSlayer():\n",
    "    def __init__(self,name, style, number_of_technique, kill):\n",
    "        self.name = name\n",
    "        self.style = style\n",
    "        self.number_of_technique = number_of_technique\n",
    "        self.kill = kill\n",
    "\n",
    "\n",
    "tanjiro = DemonSlayer(\"Tanjiro\", \"Water Breathing\", 10, 10)\n",
    "print('Name:',tanjiro.name)\n",
    "print('Fighting Style:',tanjiro.style)\n",
    "print(f'Knows {tanjiro.number_of_technique} technique(s) and has killed {tanjiro.kill} demon(s)')\n",
    "print('===================')\n",
    "zenitsu = DemonSlayer(\"Zenitsu\", \"Thunder Breathing\", 1, 4)\n",
    "print('Name:',zenitsu.name)\n",
    "print('Fighting Style:',zenitsu.style)\n",
    "print(f'Knows {zenitsu.number_of_technique} technique(s) and has killed {zenitsu.kill} demon(s)')\n",
    "print('===================')\n",
    "inosuke = DemonSlayer(\"Inosuke\", \"Beast Breathing\", 5, 7)\n",
    "print('Name:',inosuke.name)\n",
    "print('Fighting Style:',inosuke.style)\n",
    "print(f'Knows {inosuke.number_of_technique} technique(s) and has killed {inosuke.kill} demon(s)')\n",
    "print('===================')\n",
    "print(f'{tanjiro.name}, {zenitsu.name}, {inosuke.name} knows total {tanjiro.number_of_technique + zenitsu.number_of_technique + inosuke.number_of_technique} techniques')\n",
    "print(f'They have killed total {tanjiro.kill + zenitsu.kill + inosuke.kill} demons')"
   ]
  },
  {
   "cell_type": "code",
   "execution_count": null,
   "metadata": {},
   "outputs": [],
   "source": []
  }
 ],
 "metadata": {
  "colab": {
   "name": "assignment3.ipynb",
   "provenance": []
  },
  "kernelspec": {
   "display_name": "Python 3 (ipykernel)",
   "language": "python",
   "name": "python3"
  },
  "language_info": {
   "codemirror_mode": {
    "name": "ipython",
    "version": 3
   },
   "file_extension": ".py",
   "mimetype": "text/x-python",
   "name": "python",
   "nbconvert_exporter": "python",
   "pygments_lexer": "ipython3",
   "version": "3.9.7"
  }
 },
 "nbformat": 4,
 "nbformat_minor": 1
}
