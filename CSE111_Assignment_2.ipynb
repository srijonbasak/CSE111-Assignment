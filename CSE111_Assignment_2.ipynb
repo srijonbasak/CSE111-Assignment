{
 "cells": [
  {
   "cell_type": "code",
   "execution_count": 2,
   "id": "9393f857",
   "metadata": {},
   "outputs": [
    {
     "name": "stdout",
     "output_type": "stream",
     "text": [
      "Integer\n",
      "1234\n",
      "=====================\n",
      "String\n",
      "Hello\n",
      "=====================\n",
      "Float\n",
      "4.0\n"
     ]
    }
   ],
   "source": [
    "#task 1\n",
    "\n",
    "class DataType:\n",
    "    def __init__(self, name, value):\n",
    "        self.name = name\n",
    "        self.value = value\n",
    "\n",
    "data_type1 = DataType('Integer', 1234)\n",
    "print(data_type1.name)\n",
    "print(data_type1.value)\n",
    "print('=====================')\n",
    "data_type2 = DataType('String', 'Hello')\n",
    "print(data_type2.name)\n",
    "print(data_type2.value)\n",
    "print('=====================')\n",
    "data_type3 = DataType('Float', 4.0)\n",
    "print(data_type3.name)\n",
    "print(data_type3.value)"
   ]
  },
  {
   "cell_type": "code",
   "execution_count": 4,
   "id": "8ab111d5",
   "metadata": {},
   "outputs": [
    {
     "name": "stdout",
     "output_type": "stream",
     "text": [
      "Name of this flower: Rose\n",
      "Color of this flower: Red\n",
      "Number of petal: 6\n",
      "==============`=======\n",
      "Name of this flower: Orchid\n",
      "Color of this flower: Purple\n",
      "Number of petal: 4\n",
      "flower1 <__main__.Flower object at 0x0000018DE7F78F40>\n",
      "flower2 <__main__.Flower object at 0x0000018DE7F91BB0>\n",
      "they are different\n"
     ]
    }
   ],
   "source": [
    "#task 2\n",
    "\n",
    "class Flower:\n",
    "    def __init__(self):\n",
    "        self.color = None\n",
    "        self.name = None\n",
    "        self.num_of_petal = None\n",
    "\n",
    "flower1 = Flower()\n",
    "flower1.name=\"Rose\"\n",
    "flower1.color=\"Red\"\n",
    "flower1.num_of_petal=6\n",
    "print(\"Name of this flower:\", flower1.name)\n",
    "print(\"Color of this flower:\",flower1.color)\n",
    "print(\"Number of petal:\",flower1.num_of_petal)\n",
    "print('==============`=======')\n",
    "flower2 = Flower()\n",
    "flower2.name=\"Orchid\"\n",
    "flower2.color=\"Purple\"\n",
    "flower2.num_of_petal=4\n",
    "print(\"Name of this flower:\",flower2.name)\n",
    "print(\"Color of this flower:\",flower2.color)\n",
    "print (\"Number of petal:\",flower2. num_of_petal)\n",
    "\n",
    "#subtask 2\n",
    "print(f'flower1 {flower1}\\nflower2 {flower2}')\n",
    "\n",
    "#subtask 3\n",
    "if flower1 == flower2:\n",
    "    print('they are same')\n",
    "else:\n",
    "    print('they are different')"
   ]
  },
  {
   "cell_type": "code",
   "execution_count": 6,
   "id": "9457c124",
   "metadata": {},
   "outputs": [
    {
     "name": "stdout",
     "output_type": "stream",
     "text": [
      "Heath Ledger\n",
      "Mind Game\n",
      "False\n",
      "=====================\n",
      "Joaquin Phoenix\n",
      "Laughing out Loud\n",
      "True\n",
      "=====================\n",
      "different\n",
      "same\n"
     ]
    }
   ],
   "source": [
    "#task 3\n",
    "\n",
    "class Joker():\n",
    "    def __init__(self,name,power,is_he_psycho):\n",
    "        self.name = name\n",
    "        self.power = power\n",
    "        self.is_he_psycho = is_he_psycho\n",
    "\n",
    "\n",
    "j1 = Joker('Heath Ledger', 'Mind Game', False)\n",
    "print(j1.name)\n",
    "print(j1.power)\n",
    "print(j1.is_he_psycho)\n",
    "print('=====================')\n",
    "j2 = Joker('Joaquin Phoenix', 'Laughing out Loud', True)\n",
    "print(j2.name)\n",
    "print(j2.power)\n",
    "print(j2.is_he_psycho)\n",
    "print('=====================')\n",
    "if j1 == j2:\n",
    "    print('same')\n",
    "else:\n",
    "    print('different')\n",
    "j2.name = 'Heath Ledger'\n",
    "if j1.name == j2.name:\n",
    "    print('same')\n",
    "else:\n",
    "    print('different')"
   ]
  },
  {
   "cell_type": "code",
   "execution_count": 5,
   "id": "4f8ba418",
   "metadata": {},
   "outputs": [
    {
     "name": "stdout",
     "output_type": "stream",
     "text": [
      "=======Team 1=======\n",
      "Pokemon 1: pikachu 90\n",
      "Pokemon 2: charmander 60\n",
      "Combined Power: 1500\n",
      "=======Team 2=======\n",
      "Pokemon 1: bulbasaur 80\n",
      "Pokemon 2: squirtle 70\n",
      "Combined Power: 1350\n"
     ]
    }
   ],
   "source": [
    "#task 4\n",
    "\n",
    "\n",
    "class Pokemon():\n",
    "    def __init__(self,pokemon1_name,pokemon2_name,pokemon1_power,pokemon2_power,damage_rate):\n",
    "        self.pokemon1_name = pokemon1_name\n",
    "        self.pokemon2_name = pokemon2_name\n",
    "        self.pokemon1_power = pokemon1_power\n",
    "        self.pokemon2_power = pokemon2_power\n",
    "        self.damage_rate = damage_rate\n",
    "        \n",
    "team_pika = Pokemon('pikachu', 'charmander', 90, 60, 10) \n",
    "print('=======Team 1=======')\n",
    "print('Pokemon 1:',team_pika.pokemon1_name, team_pika.pokemon1_power)\n",
    "print('Pokemon 2:',team_pika.pokemon2_name, team_pika.pokemon2_power)\n",
    "pika_combined_power = (team_pika.pokemon1_power + team_pika.pokemon2_power) * team_pika.damage_rate \n",
    "print('Combined Power:', pika_combined_power)\n",
    "team_bulb = Pokemon('bulbasaur', 'squirtle', 80, 70, 9)\n",
    "print('=======Team 2=======')\n",
    "print('Pokemon 1:',team_bulb.pokemon1_name, team_bulb.pokemon1_power)\n",
    "print('Pokemon 2:',team_bulb.pokemon2_name, team_bulb.pokemon2_power)\n",
    "pika_combined_power = (team_bulb.pokemon1_power + team_bulb.pokemon2_power) * team_bulb.damage_rate \n",
    "print('Combined Power:', pika_combined_power)\n",
    "\n",
    "team_bulb = Pokemon('bulbasaur', 'squirtle', 80, 70, 9)"
   ]
  },
  {
   "cell_type": "code",
   "execution_count": 8,
   "id": "faa9aeb1",
   "metadata": {},
   "outputs": [
    {
     "name": "stdout",
     "output_type": "stream",
     "text": [
      "Name of the Player: Ronaldo\n",
      "Jersey Number of player: 9\n",
      "Position of player: Striker\n",
      "===========================\n",
      "Name of the player: Neuer\n",
      "Jersey Number of player: 1\n",
      "Position of player: Goal Keeper\n"
     ]
    }
   ],
   "source": [
    "#task 5\n",
    "\n",
    "\n",
    "class Player():\n",
    "    def __init__(self):\n",
    "        self.name = None\n",
    "        self.jersey_number = None\n",
    "        self.position = None\n",
    "\n",
    "\n",
    "\n",
    "player1 = Player()\n",
    "player1.name = \"Ronaldo\"\n",
    "player1.jersy_number = 9\n",
    "player1.position = \"Striker\"\n",
    "print(\"Name of the Player:\", player1.name)\n",
    "print(\"Jersey Number of player:\", player1.jersy_number)\n",
    "print(\"Position of player:\", player1.position)\n",
    "print('===========================')\n",
    "player2 = Player()\n",
    "player2.name = \"Neuer\"\n",
    "player2.jersy_number = 1\n",
    "player2.position = \"Goal Keeper\"\n",
    "print(\"Name of the player:\", player2.name)\n",
    "print(\"Jersey Number of player:\", player2.jersy_number)\n",
    "print(\"Position of player:\", player2.position)"
   ]
  },
  {
   "cell_type": "code",
   "execution_count": 9,
   "id": "6e110329",
   "metadata": {},
   "outputs": [
    {
     "name": "stdout",
     "output_type": "stream",
     "text": [
      "Name: Bangladesh\n",
      "Continent: Asia\n",
      "Capital: Dhaka\n",
      "Fifa Ranking: 187\n",
      "===================\n",
      "Name: Belgium\n",
      "Continent: Europe\n",
      "Capital: Brussels\n",
      "Fifa Ranking: 1\n"
     ]
    }
   ],
   "source": [
    "#task 6\n",
    "\n",
    "class Country():\n",
    "    def __init__(self):\n",
    "        self.name = 'Bangladesh'\n",
    "        self.continent = 'Asia'\n",
    "        self.capital = 'Dhaka'\n",
    "        self.fifa_ranking = 187\n",
    "\n",
    "country = Country()\n",
    "print('Name:', country.name)\n",
    "print('Continent:', country.continent)\n",
    "print('Capital:', country.capital)\n",
    "print('Fifa Ranking:', country.fifa_ranking)\n",
    "print('===================')\n",
    "\n",
    "country.name = 'Belgium'\n",
    "country.continent = 'Europe'\n",
    "country.capital = 'Brussels'\n",
    "country.fifa_ranking = 1\n",
    "print('Name:', country.name)\n",
    "print('Continent:', country.continent)\n",
    "print('Capital:', country.capital)\n",
    "print('Fifa Ranking:', country.fifa_ranking)"
   ]
  },
  {
   "cell_type": "code",
   "execution_count": 10,
   "id": "3f2b4599",
   "metadata": {},
   "outputs": [
    {
     "name": "stdout",
     "output_type": "stream",
     "text": [
      "Name: Tanjiro\n",
      "Fighting Style: Water Breathing\n",
      "Knows 10 technique(s) and has killed 10 demon(s)\n",
      "===================\n",
      "Name: Zenitsu\n",
      "Fighting Style: Thunder Breathing\n",
      "Knows 1 technique(s) and has killed 4 demon(s)\n",
      "===================\n",
      "Name: Inosuke\n",
      "Fighting Style: Beast Breathing\n",
      "Knows 5 technique(s) and has killed 7 demon(s)\n",
      "===================\n",
      "Tanjiro, Zenitsu, Inosuke knows total 16 techniques\n",
      "They have killed total 21 demons\n"
     ]
    }
   ],
   "source": [
    "#Task 7\n",
    "\n",
    "class DemonSlayer():\n",
    "    def __init__(self,name, style, number_of_technique, kill):\n",
    "        self.name = name\n",
    "        self.style = style\n",
    "        self.number_of_technique = number_of_technique\n",
    "        self.kill = kill\n",
    "\n",
    "\n",
    "tanjiro = DemonSlayer(\"Tanjiro\", \"Water Breathing\", 10, 10)\n",
    "print('Name:',tanjiro.name)\n",
    "print('Fighting Style:',tanjiro.style)\n",
    "print(f'Knows {tanjiro.number_of_technique} technique(s) and has killed {tanjiro.kill} demon(s)')\n",
    "print('===================')\n",
    "zenitsu = DemonSlayer(\"Zenitsu\", \"Thunder Breathing\", 1, 4)\n",
    "print('Name:',zenitsu.name)\n",
    "print('Fighting Style:',zenitsu.style)\n",
    "print(f'Knows {zenitsu.number_of_technique} technique(s) and has killed {zenitsu.kill} demon(s)')\n",
    "print('===================')\n",
    "inosuke = DemonSlayer(\"Inosuke\", \"Beast Breathing\", 5, 7)\n",
    "print('Name:',inosuke.name)\n",
    "print('Fighting Style:',inosuke.style)\n",
    "print(f'Knows {inosuke.number_of_technique} technique(s) and has killed {inosuke.kill} demon(s)')\n",
    "print('===================')\n",
    "print(f'{tanjiro.name}, {zenitsu.name}, {inosuke.name} knows total {tanjiro.number_of_technique + zenitsu.number_of_technique + inosuke.number_of_technique} techniques')\n",
    "print(f'They have killed total {tanjiro.kill + zenitsu.kill + inosuke.kill} demons')"
   ]
  },
  {
   "cell_type": "code",
   "execution_count": null,
   "id": "a030cb68",
   "metadata": {},
   "outputs": [],
   "source": []
  }
 ],
 "metadata": {
  "kernelspec": {
   "display_name": "Python 3 (ipykernel)",
   "language": "python",
   "name": "python3"
  },
  "language_info": {
   "codemirror_mode": {
    "name": "ipython",
    "version": 3
   },
   "file_extension": ".py",
   "mimetype": "text/x-python",
   "name": "python",
   "nbconvert_exporter": "python",
   "pygments_lexer": "ipython3",
   "version": "3.9.7"
  }
 },
 "nbformat": 4,
 "nbformat_minor": 5
}
