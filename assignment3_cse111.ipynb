{
 "cells": [
  {
   "cell_type": "code",
   "execution_count": 1,
   "id": "d2509835",
   "metadata": {},
   "outputs": [
    {
     "name": "stdout",
     "output_type": "stream",
     "text": [
      "1 0\n",
      "405 302\n",
      "1 0\n",
      "1 0\n",
      "1209 704\n",
      "1 0\n"
     ]
    },
    {
     "data": {
      "text/plain": [
       "1"
      ]
     },
     "execution_count": 1,
     "metadata": {},
     "output_type": "execute_result"
    }
   ],
   "source": [
    "class Scope:\n",
    "    def __init__(self):\n",
    "        self.x, self.y = 1, 100\n",
    "    def met1(self):\n",
    "        x = 3\n",
    "        x = self.x + 1\n",
    "        self.y = self.y + self.x + 1\n",
    "        x = self.y + self.met2() + self.y\n",
    "        print(x, self.y)\n",
    "    def met2(self):\n",
    "        y = 0\n",
    "        print(self.x, y)\n",
    "        self.x = self.x + y\n",
    "        self.y = self.y + 200\n",
    "        return self.x + y\n",
    "    \n",
    "q2 = Scope()\n",
    "q2.met1()\n",
    "q2.met2()\n",
    "q2.met1()\n",
    "q2.met2()"
   ]
  },
  {
   "cell_type": "code",
   "execution_count": 18,
   "id": "e08f9418",
   "metadata": {},
   "outputs": [
    {
     "name": "stdout",
     "output_type": "stream",
     "text": [
      "1\n",
      "+\n",
      "2\n",
      "3\n"
     ]
    }
   ],
   "source": [
    "#task 1\n",
    "class Calculator:\n",
    "    def __init__(self):\n",
    "        self.num1 = int(input())\n",
    "        self.oparator = input()\n",
    "        self.num2 = int(input())\n",
    "        if self.oparator == '+':\n",
    "            print(self.add())\n",
    "        elif self.oparator == '-':\n",
    "            print(self.subtract())\n",
    "        elif self.oparator == '/':\n",
    "            print(self.devide())\n",
    "        elif self.oparator == '*':\n",
    "            print(self.multiply())\n",
    "        \n",
    "    def add(self):\n",
    "        return self.num1 + self.num2\n",
    "    def subtract(self):\n",
    "        return self.num1 - self.num2\n",
    "    def multiply(self):\n",
    "        return self.num1 * self.num2\n",
    "    def divide(self):\n",
    "        return elf.num1 / self.num2\n",
    "\n",
    "c1 = Calculator()"
   ]
  },
  {
   "cell_type": "code",
   "execution_count": 3,
   "id": "a92c71a5",
   "metadata": {},
   "outputs": [
    {
     "name": "stdout",
     "output_type": "stream",
     "text": [
      "CSE110-TBA-8\n",
      "===============\n",
      "CSE111-TBA-9\n"
     ]
    }
   ],
   "source": [
    "#task 2\n",
    "class Course:\n",
    "    def __init__(self,cour,fac,sec):\n",
    "        self.course = cour\n",
    "        self.faculty = fac\n",
    "        self.section = sec\n",
    "    def detail(self):\n",
    "        print(f'{self.course} - {self.faculty} - {self.section}')\n",
    "        \n",
    "\n",
    "\n",
    "\n",
    "c1 = Course(\"CSE110\", \"TBA\", 8)\n",
    "c1.detail()\n",
    "print(\"===============\")\n",
    "c2 = Course(\"CSE111\", \"TBA\", 9)\n",
    "c2.detail()"
   ]
  },
  {
   "cell_type": "code",
   "execution_count": 9,
   "id": "6c8dfd1c",
   "metadata": {},
   "outputs": [
    {
     "name": "stdout",
     "output_type": "stream",
     "text": [
      "Name: A \n",
      "Age: 55 \n",
      "Weight: 63.0 kg \n",
      "Height: 158.0 cm \n",
      "BMI: 25.236340330075304\n",
      "====================\n",
      "Name: B \n",
      "Age: 53 \n",
      "Weight: 61.0 kg \n",
      "Height: 149.0 cm \n",
      "BMI: 27.476239809017613\n"
     ]
    }
   ],
   "source": [
    "#task 3\n",
    "\n",
    "class Patient:\n",
    "    def __init__(self,name, age, weight, height):\n",
    "        self.name = name\n",
    "        self.age = age\n",
    "        self.weight = weight\n",
    "        self.height = height\n",
    "        self.bmi = self.weight/((self.height/100)**2)\n",
    "    def printDetails(self):\n",
    "        print(f'Name: {self.name} \\nAge: {self.age} \\nWeight: {self.weight} kg \\nHeight: {self.height} cm \\nBMI: {self.bmi}')\n",
    "\n",
    "\n",
    "p1 = Patient(\"A\", 55, 63.0, 158.0)\n",
    "p1.printDetails()\n",
    "print(\"====================\")\n",
    "p2 = Patient(\"B\", 53, 61.0, 149.0)\n",
    "p2.printDetails()"
   ]
  },
  {
   "cell_type": "code",
   "execution_count": 14,
   "id": "903784e0",
   "metadata": {},
   "outputs": [
    {
     "name": "stdout",
     "output_type": "stream",
     "text": [
      "(0, 0)\n",
      "(0, 1)\n",
      "(-1, 1)\n",
      "(-1, 0)\n"
     ]
    }
   ],
   "source": [
    "#task 4\n",
    "\n",
    "class Vehicle:\n",
    "    def __init__(self):\n",
    "        self.x = 0\n",
    "        self.y = 0\n",
    "    def print_position(self):\n",
    "        print((self.x,self.y))\n",
    "    def moveUp(self):\n",
    "        self.y += 1\n",
    "    def moveLeft(self):\n",
    "        self.x -= 1\n",
    "    def moveDown(self):\n",
    "        self.y -= 1\n",
    "        \n",
    "    def moveRight(self):\n",
    "        self.x += 1\n",
    "\n",
    "car = Vehicle()\n",
    "car.print_position()\n",
    "car.moveUp()\n",
    "car.print_position()\n",
    "car.moveLeft()\n",
    "car.print_position()\n",
    "car.moveDown()\n",
    "car.print_position()\n",
    "car.moveRight()"
   ]
  },
  {
   "cell_type": "code",
   "execution_count": 10,
   "id": "119c54fc",
   "metadata": {},
   "outputs": [
    {
     "name": "stdout",
     "output_type": "stream",
     "text": [
      "Area : 50.0\n",
      "==========================\n",
      "Area : 100\n",
      "==========================\n",
      "Area : 162.0\n",
      "==========================\n",
      "Area : 225\n",
      "==========================\n",
      "Area : Shape unknown\n"
     ]
    }
   ],
   "source": [
    "#task 5\n",
    "class Shape:\n",
    "    def __init__(self, shp, h1, h2):\n",
    "        self.shp = shp\n",
    "        self.h1 = h1\n",
    "        self.h2 = h2\n",
    "        \n",
    "    def area(self):\n",
    "        if self.shp == \"Triangle\" or self.shp == \"Rhombus\":\n",
    "            self.result = round((.5*(self.h1*self.h1)),1)\n",
    "        elif self.shp == \"Square\" or self.shp == \"Rectangle\":\n",
    "            self.result = round((self.h1*self.h1),1)\n",
    "        else:\n",
    "            self.result = 'Shape unknown'\n",
    "        print(f'Area : {self.result}')\n",
    "\n",
    "triangle = Shape(\"Triangle\",10,25)\n",
    "triangle.area()\n",
    "print(\"==========================\")\n",
    "square = Shape(\"Square\",10,10)\n",
    "square.area()\n",
    "print(\"==========================\")\n",
    "rhombus = Shape(\"Rhombus\",18,25)\n",
    "rhombus.area()\n",
    "print(\"==========================\")\n",
    "rectangle = Shape(\"Rectangle\",15,30)\n",
    "rectangle.area()\n",
    "print(\"==========================\")\n",
    "trapezium = Shape(\"Trapezium\",15,30)\n",
    "trapezium.area()"
   ]
  },
  {
   "cell_type": "code",
   "execution_count": 5,
   "id": "ba0ef27c",
   "metadata": {},
   "outputs": [
    {
     "name": "stdout",
     "output_type": "stream",
     "text": [
      "Calculator is ready!\n",
      "==================\n",
      "Returned value: 30\n",
      "10 + 20 = 30\n",
      "==================\n",
      "Returned value: 20\n",
      "30 - 10 = 20\n",
      "==================\n",
      "Returned value: 100\n",
      "20 * 5 = 100\n",
      "==================\n",
      "Returned value: 6.25\n",
      "100 / 16 = 6.25\n"
     ]
    }
   ],
   "source": [
    "#task 6\n",
    "class Calculator:\n",
    "    def __init__(self):\n",
    "        print('Calculator is ready!')\n",
    "    def calculate(self, num1, num2, opa):\n",
    "        self.num1 = num1\n",
    "        self.num2 = num2\n",
    "        self.opa = opa \n",
    "        \n",
    "        if self.opa == '+':\n",
    "            self.result = self.num1 + self.num2\n",
    "        elif self.opa == '-':\n",
    "            self.result = self.num1 - self.num2\n",
    "            \n",
    "        elif self.opa == '/':\n",
    "            self.result = self.num1 / self.num2\n",
    "            \n",
    "        elif self.opa == '*':\n",
    "            self.result = self.num1 * self.num2\n",
    "        return self.result\n",
    "    def showCalculation(self):\n",
    "        print(f'{self.num1} {self.opa} {self.num2} = {self.result}')\n",
    "            \n",
    "        \n",
    "\n",
    "c1 = Calculator()\n",
    "print(\"==================\")\n",
    "val = c1.calculate(10, 20, '+')\n",
    "print(\"Returned value:\", val)\n",
    "c1.showCalculation()\n",
    "print(\"==================\")\n",
    "val = c1.calculate(val, 10, '-')\n",
    "print(\"Returned value:\", val)\n",
    "c1.showCalculation()\n",
    "print(\"==================\")\n",
    "val = c1.calculate(val, 5, '*')\n",
    "print(\"Returned value:\", val)\n",
    "c1.showCalculation()\n",
    "print(\"==================\")\n",
    "val = c1.calculate(val, 16, '/')\n",
    "print(\"Returned value:\", val)\n",
    "c1.showCalculation()"
   ]
  },
  {
   "cell_type": "code",
   "execution_count": 30,
   "id": "9258344f",
   "metadata": {},
   "outputs": [
    {
     "name": "stdout",
     "output_type": "stream",
     "text": [
      "==========================\n",
      "Name: Dora, ID: 15995599 \n",
      "Department: CSE \n",
      "CGPA: 3.85 \n",
      "Your academic standing is 'Highest Distinction'\n",
      "==========================\n",
      "==========================\n",
      "Name: Pingu, ID: 12312322 \n",
      "Department: EEE \n",
      "CGPA: 1.32 \n",
      "Your academic standing is 'Can’t Graduate'\n",
      "==========================\n",
      "==========================\n",
      "Name: Bob, ID: 13311331 \n",
      "Department: CSE \n",
      "CGPA: 2.85 \n",
      "Your academic standing is 'Satisfactory'\n"
     ]
    }
   ],
   "source": [
    "#task 7\n",
    "class Student:\n",
    "    def __init__(self,name, ida, dept, cgs):\n",
    "        self.name =  name\n",
    "        self.id = ida\n",
    "        self.dept = dept\n",
    "        self.cgs = cgs\n",
    "    def calculate_CGPA(self):\n",
    "        sums = 0\n",
    "        for cg in self.cgs:\n",
    "            sums += cg\n",
    "        self.cgpa = round(sums/len(self.cgs),2)\n",
    "    def print_details(self):\n",
    "        print(f'Name: {self.name}, ID: {self.id} \\nDepartment: {self.dept} \\nCGPA: {self.cgpa} \\nYour academic standing is \\'{self.standing_rule()}\\'')\n",
    "    def standing_rule(self):\n",
    "        if self.cgpa > 3.8:\n",
    "            return 'Highest Distinction'\n",
    "        elif self.cgpa > 3.65:\n",
    "            return 'High istinction'\n",
    "\n",
    "        elif self.cgpa > 3.50:\n",
    "            return 'Distinction'\n",
    "            \n",
    "        elif self.cgpa > 2:\n",
    "            return 'Satisfactory'\n",
    "            \n",
    "        else:\n",
    "            return 'Can’t Graduate'\n",
    "            \n",
    "s1 = Student('Dora', '15995599','CSE', [4,3.7,3.7,4])\n",
    "s1.calculate_CGPA()\n",
    "print(\"==========================\")\n",
    "s1.print_details()\n",
    "print(\"==========================\")\n",
    "s2 = Student('Pingu', '12312322', 'EEE', [1.7,1.3,1.3,1.3,1])\n",
    "s2.calculate_CGPA()\n",
    "print(\"==========================\")\n",
    "s2.print_details()\n",
    "print(\"==========================\")\n",
    "s3 = Student('Bob', '13311331', 'CSE', [2,3,3,3.7,2.7,2.7])\n",
    "s3.calculate_CGPA()\n",
    "print(\"==========================\")\n",
    "s3.print_details()"
   ]
  },
  {
   "cell_type": "code",
   "execution_count": 24,
   "id": "c262f195",
   "metadata": {},
   "outputs": [
    {
     "name": "stdout",
     "output_type": "stream",
     "text": [
      "Name: Naruto \n",
      "Rank: Genin \n",
      "Number of mission: 5 \n",
      "Salary: 250\n",
      "====================\n",
      "Name: Shikamaru \n",
      "Rank: Genin \n",
      "Number of mission: 0 \n",
      "Salary: 0\n",
      "Name: Shikamaru \n",
      "Rank: Genin \n",
      "Number of mission: 10 \n",
      "Salary: 1000\n",
      "====================\n",
      "Name: Neiji \n",
      "Rank: Genin \n",
      "Number of mission: 5 \n",
      "Salary: 2500\n"
     ]
    }
   ],
   "source": [
    "#task 8\n",
    "class Shinobi:\n",
    "    def __init__(self,name, rank):\n",
    "        self.name = name\n",
    "        self.rank = rank\n",
    "        self.salary = 0\n",
    "        self.mission = 0\n",
    "    def calSalary(self,mission):\n",
    "        self.mission = mission\n",
    "        if self.rank == 'Genin':\n",
    "            self.salary =self.mission * 50\n",
    "        elif self.rank == 'Chunin':\n",
    "            self.salary = self.mission * 100\n",
    "        else:\n",
    "            self.salary = self.mission * 500\n",
    "    def printInfo(self):\n",
    "        print(f'Name: {self.name} \\nRank: Genin \\nNumber of mission: {self.mission} \\nSalary: {self.salary}')\n",
    "        \n",
    "    def changeRank(self,rank):\n",
    "        self.rank = rank\n",
    "        \n",
    "\n",
    "\n",
    "naruto = Shinobi(\"Naruto\", \"Genin\")\n",
    "naruto.calSalary(5)\n",
    "naruto.printInfo()\n",
    "print('====================')\n",
    "shikamaru = Shinobi('Shikamaru', \"Genin\")\n",
    "shikamaru.printInfo()\n",
    "shikamaru.changeRank(\"Chunin\")\n",
    "shikamaru.calSalary(10)\n",
    "shikamaru.printInfo()\n",
    "print('====================')\n",
    "neiji = Shinobi(\"Neiji\", \"Jonin\")\n",
    "neiji.calSalary(5)\n",
    "neiji.printInfo()"
   ]
  },
  {
   "cell_type": "code",
   "execution_count": 20,
   "id": "4b6ae46b",
   "metadata": {},
   "outputs": [
    {
     "name": "stdout",
     "output_type": "stream",
     "text": [
      "Horray! A new programmer is born\n",
      "Name: Ethen Hunt \n",
      "Language: Java \n",
      "Experience: 10 years.\n",
      "--------------------------\n",
      "Horray! A new programmer is born\n",
      "Name: James Bond \n",
      "Language: C++ \n",
      "Experience: 7 years.\n",
      "--------------------------\n",
      "Horray! A new programmer is born\n",
      "Name: Jon Snow \n",
      "Language: Python \n",
      "Experience: 4 years.\n",
      "Updating experience of Jon Snow\n",
      "Name: Jon Snow \n",
      "Language: Python \n",
      "Experience: 9 years.\n"
     ]
    }
   ],
   "source": [
    "#task 9\n",
    "class Programmer:\n",
    "    def __init__(self,name,l_name,ex):\n",
    "        self.name = name\n",
    "        self.l_name = l_name\n",
    "        self.ex = ex\n",
    "        print('Horray! A new programmer is born')\n",
    "        \n",
    "    def printDetails(self):\n",
    "        print(f'Name: {self.name} \\nLanguage: {self.l_name} \\nExperience: {self.ex} years.')\n",
    "        \n",
    "    def addExp(self,yr):\n",
    "        print(f'Updating experience of {self.name}')\n",
    "        self.ex += yr\n",
    "\n",
    "\n",
    "\n",
    "p1 = Programmer(\"Ethen Hunt\", \"Java\", 10)\n",
    "p1.printDetails()\n",
    "print('--------------------------')\n",
    "p2 = Programmer(\"James Bond\", \"C++\", 7)\n",
    "p2.printDetails()\n",
    "print('--------------------------')\n",
    "p3 = Programmer(\"Jon Snow\", \"Python\", 4)\n",
    "p3.printDetails()\n",
    "p3.addExp(5)\n",
    "p3.printDetails()\n"
   ]
  },
  {
   "cell_type": "code",
   "execution_count": 34,
   "id": "1aeb105a",
   "metadata": {},
   "outputs": [
    {
     "name": "stdout",
     "output_type": "stream",
     "text": [
      "Shakib, welcome to UberEats!\n",
      "=========================\n",
      "=========================\n",
      "User details: \n",
      "Name: Shakib, \n",
      "Phone: 01719658xxx, Address: Mohakhali \n",
      "Orders: {'Burger': 220, 'Coca Cola': 50} \n",
      "Total Paid Amount: 270\n",
      "=========================\n",
      "Siam, welcome to UberEats!\n",
      "=========================\n",
      "=========================\n",
      "User details: \n",
      "Name: Siam, \n",
      "Phone: 01719659xxx, Address: Uttara \n",
      "Orders: {'Pineapple': 80, 'Dairy Milk': 70} \n",
      "Total Paid Amount: 150\n"
     ]
    }
   ],
   "source": [
    "#task 10\n",
    "class UberEats:\n",
    "    def __init__(self,name,num,location):\n",
    "        self.name = name\n",
    "        self.num = num \n",
    "        self.location = location\n",
    "        print(f'{self.name}, welcome to UberEats!')\n",
    "    def add_items(self, pdt_1, pdt_2, pdt_1_p, pdt_2_p):\n",
    "        self.total = pdt_1_p + pdt_2_p\n",
    "        self.odders = {pdt_1 : pdt_1_p,pdt_2 : pdt_2_p}\n",
    "    def print_order_detail(self):\n",
    "        return (f\"User details: \\nName: {self.name}, \\nPhone: {self.num}, Address: {self.location} \\nOrders: {self.odders} \\nTotal Paid Amount: {self.total}\")\n",
    "        \n",
    "        \n",
    "\n",
    "\n",
    "\n",
    "order1 = UberEats(\"Shakib\", \"01719658xxx\", \"Mohakhali\")\n",
    "print(\"=========================\")\n",
    "order1.add_items(\"Burger\", \"Coca Cola\", 220, 50)\n",
    "print(\"=========================\")\n",
    "print(order1.print_order_detail())\n",
    "print(\"=========================\")\n",
    "order2 = UberEats (\"Siam\", \"01719659xxx\", \"Uttara\")\n",
    "print(\"=========================\")\n",
    "order2.add_items(\"Pineapple\", \"Dairy Milk\", 80, 70)\n",
    "print(\"=========================\")\n",
    "print(order2.print_order_detail())"
   ]
  },
  {
   "cell_type": "code",
   "execution_count": 11,
   "id": "a2ff01bf",
   "metadata": {},
   "outputs": [
    {
     "name": "stdout",
     "output_type": "stream",
     "text": [
      "Welcome to Spotify!\n",
      "=========================\n",
      "4 number song not found. Your playlist has 3 songs only.\n",
      "##########################\n",
      "Playing 3 number song for you \n",
      "Song name: Hello\n",
      "##########################\n",
      "Playing 4 number song for you \n",
      "Song name: Dusk Till Dawn\n"
     ]
    }
   ],
   "source": [
    "#task 11\n",
    "class Spotify:\n",
    "    def __init__(self,songs_list):\n",
    "        print('Welcome to Spotify!')\n",
    "        self.songs_dict = {}\n",
    "        self.songs = songs_list\n",
    "        for x in self.songs:\n",
    "            self.songs_dict[len(self.songs_dict)+1] = x\n",
    "    def playing_number(self,song_num):\n",
    "        if self.songs_dict.get(song_num) == None:\n",
    "            return (f'{song_num} number song not found. Your playlist has {len(self.songs_dict)} songs only.')\n",
    "        else:\n",
    "            return (f'##########################\\nPlaying {song_num} number song for you \\nSong name: {self.songs_dict[song_num]}')\n",
    "            \n",
    "    def add_to_playlist(self, song_name):\n",
    "        self.songs_dict[len(self.songs_dict)+1] = song_name\n",
    "\n",
    "user1 = Spotify([\"See You Again\", \"Uptown Funk\", \"Hello\"])\n",
    "print(\"=========================\")\n",
    "print(user1.playing_number(4))\n",
    "user1.add_to_playlist(\"Dusk Till Dawn\")\n",
    "print(user1.playing_number(3))\n",
    "print(user1.playing_number(4))"
   ]
  },
  {
   "cell_type": "code",
   "execution_count": null,
   "id": "a073371a",
   "metadata": {},
   "outputs": [],
   "source": []
  }
 ],
 "metadata": {
  "kernelspec": {
   "display_name": "Python 3 (ipykernel)",
   "language": "python",
   "name": "python3"
  },
  "language_info": {
   "codemirror_mode": {
    "name": "ipython",
    "version": 3
   },
   "file_extension": ".py",
   "mimetype": "text/x-python",
   "name": "python",
   "nbconvert_exporter": "python",
   "pygments_lexer": "ipython3",
   "version": "3.9.7"
  }
 },
 "nbformat": 4,
 "nbformat_minor": 5
}
