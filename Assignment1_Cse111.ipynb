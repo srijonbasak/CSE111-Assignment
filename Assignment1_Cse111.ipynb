{
 "cells": [
  {
   "cell_type": "code",
   "execution_count": null,
   "id": "0760d9c2",
   "metadata": {},
   "outputs": [],
   "source": [
    "#string 1\n",
    "\n",
    "letters = 'ApplE'\n",
    "u_count = 0\n",
    "l_count = 0 \n",
    "for letter in letters:\n",
    "    if ord(letter) in range(97,123):\n",
    "        l_count += 1\n",
    "    elif ord(letter) in range(65,91):\n",
    "        u_count += 1\n",
    "if u_count > l_count:\n",
    "    letters = letters.upper()\n",
    "else:\n",
    "    letters = letters.lower()\n",
    "    \n",
    "print(letters)"
   ]
  },
  {
   "cell_type": "code",
   "execution_count": null,
   "id": "ef355461",
   "metadata": {},
   "outputs": [],
   "source": [
    "#string 2\n",
    "\n",
    "letters = 'jhg231j213'\n",
    "w_count = 0\n",
    "n_count = 0\n",
    "for letter in letters:\n",
    "    if 'a' <= letter <= 'z' or 'A' <= letter <= 'Z':\n",
    "        w_count += 1\n",
    "    elif '0' <= letter <= '9':\n",
    "        n_count += 1\n",
    "if w_count > 0 and n_count > 0:\n",
    "    print('MIXED')\n",
    "elif w_count > 0:\n",
    "    print('WORD')\n",
    "elif n_count > 0:\n",
    "    print('NUMBER')"
   ]
  },
  {
   "cell_type": "code",
   "execution_count": null,
   "id": "df4e91b3",
   "metadata": {},
   "outputs": [],
   "source": [
    "#string 3\n",
    "\n",
    "letters = 'baNgladEsh'\n",
    "cont = ''\n",
    "trg = False\n",
    "for letter in letters:\n",
    "    if trg:\n",
    "        if ord(letter) in range(65,91):\n",
    "            break\n",
    "        cont += letter\n",
    "    if ord(letter) in range(65,91) and not trg:\n",
    "        trg = True\n",
    "if len(cont) > 0:\n",
    "    print(cont)\n",
    "else:\n",
    "    print(\"BLANK\")"
   ]
  },
  {
   "cell_type": "code",
   "execution_count": 12,
   "id": "b294c008",
   "metadata": {},
   "outputs": [
    {
     "name": "stdout",
     "output_type": "stream",
     "text": [
      "aa\n"
     ]
    }
   ],
   "source": [
    "#string 4\n",
    "\n",
    "string = 'a, tam'.split(', ')\n",
    "temp = ''\n",
    "for x in string[0]:\n",
    "    if x in string[1]:\n",
    "        temp += x\n",
    "for x in string[1]:\n",
    "    if x in string[0]:\n",
    "        temp += x\n",
    "if len(temp) > 0 :\n",
    "    print(temp)\n",
    "else:\n",
    "    print(\"Nothing in common.\")"
   ]
  },
  {
   "cell_type": "code",
   "execution_count": 14,
   "id": "bca4b75f",
   "metadata": {},
   "outputs": [
    {
     "name": "stdout",
     "output_type": "stream",
     "text": [
      "ohmybracu\n",
      "Uppercase character missing, Digit missing, Special character missing\n"
     ]
    }
   ],
   "source": [
    "#string 5\n",
    "password = input()\n",
    "\n",
    "con_1 = False\n",
    "con_2 = False\n",
    "con_3 = False\n",
    "con_4 = False\n",
    "error_msg = ''\n",
    "\n",
    "for value in range(65,91):\n",
    "    if chr(value) in password:\n",
    "        con_1 = True\n",
    "        break\n",
    "        \n",
    "for value in range(97,123):\n",
    "    if chr(value) in password:\n",
    "        con_2 = True\n",
    "        break\n",
    "        \n",
    "for value in range(48,58):\n",
    "    if chr(value) in password:\n",
    "        con_3 = True\n",
    "        break\n",
    "        \n",
    "for value in '_$#@':\n",
    "    if value in password:\n",
    "        con_4 = True\n",
    "        break\n",
    "        \n",
    "if all([con_1, con_2, con_3, con_4]):\n",
    "    print('OK')\n",
    "else:\n",
    "    if not con_1:\n",
    "        error_msg += 'Uppercase character missing, '\n",
    "    if not con_2:\n",
    "        error_msg += 'Lowercase character missing, '\n",
    "    if not con_3:\n",
    "        error_msg += 'Digit missing, '\n",
    "    if not con_4:\n",
    "        error_msg += 'Special character missing, '\n",
    "    print(error_msg[:-2])"
   ]
  },
  {
   "cell_type": "code",
   "execution_count": 8,
   "id": "e1d170b1",
   "metadata": {},
   "outputs": [
    {
     "name": "stdout",
     "output_type": "stream",
     "text": [
      "10\n",
      "10\n",
      "10\n",
      "20\n",
      "20\n",
      "30\n",
      "40\n",
      "50\n",
      "20\n",
      "10\n",
      "STOP\n",
      "40 - 1 times1\n",
      "10 - 4 times1\n",
      "50 - 1 times1\n",
      "20 - 3 times1\n",
      "30 - 1 times1\n"
     ]
    }
   ],
   "source": [
    "# list 1\n",
    "\n",
    "list1 = []\n",
    "list2 = []\n",
    "while True:\n",
    "    num = input()\n",
    "    if num == 'STOP':\n",
    "        break\n",
    "    else:\n",
    "        list1.append(int(num))\n",
    "list2 = list1.copy()\n",
    "for ele in set(list2):\n",
    "    print(f'{ele} - {list1.count(ele)} times.')"
   ]
  },
  {
   "cell_type": "code",
   "execution_count": 14,
   "id": "873869e3",
   "metadata": {
    "scrolled": true
   },
   "outputs": [
    {
     "name": "stdout",
     "output_type": "stream",
     "text": [
      "2\n",
      "1 2 3\n",
      "2 34\n",
      "36\n",
      "[2, 34]\n"
     ]
    }
   ],
   "source": [
    "#list 2\n",
    "times = int(input())\n",
    "final = []\n",
    "for x in range(times):\n",
    "    nums = input().split()\n",
    "    sum1 = 0\n",
    "    temp =[]\n",
    "    temp = [int(num) for num in nums] #convert string to int\n",
    "    for num in temp:\n",
    "        sum1 += num\n",
    "    final.append([sum1,temp])\n",
    "    \n",
    "lrg_sum = final[0][0]\n",
    "for sums in final:\n",
    "    if sums[0] > lrg_sum:\n",
    "        lrg_sum = sums[0]\n",
    "\n",
    "print(lrg_sum)\n",
    "lrg = [print(sums[1]) for sums in final if sums[0] ==lrg_sum]"
   ]
  },
  {
   "cell_type": "code",
   "execution_count": 14,
   "id": "67014565",
   "metadata": {},
   "outputs": [
    {
     "name": "stdout",
     "output_type": "stream",
     "text": [
      "1 4 2 3\n",
      "2 1 4 6 10\n",
      "1 4 2 -1 6\n",
      "STOP\n",
      "UB Jumper\n",
      "UB Jumper\n",
      "Not UB Jumper\n"
     ]
    }
   ],
   "source": [
    "# list 3\n",
    "final = []\n",
    "while True:\n",
    "    nums = input()\n",
    "    if nums == 'STOP':\n",
    "        break\n",
    "    nums = [int(ele) for ele in nums.split()]\n",
    "    final.append(nums)\n",
    "for nums in final:\n",
    "    x = [abs(nums[p] - nums[p+1]) for p in range(len(nums)-1)]\n",
    "    result = [False for ele in x  if ele not in range(1,6)]\n",
    "    print('Not UB Jumper') if False in result else print(\"UB Jumper\")\n",
    "        "
   ]
  },
  {
   "cell_type": "code",
   "execution_count": 29,
   "id": "beb48ea0",
   "metadata": {},
   "outputs": [
    {
     "name": "stdout",
     "output_type": "stream",
     "text": [
      "6 5\n",
      "0 0 0 0 0 0\n",
      "2\n"
     ]
    }
   ],
   "source": [
    "#list 4\n",
    "temp1 = input().split()\n",
    "n, k = tuple([int(x) for x in temp1])\n",
    "\n",
    "prt = input().split()\n",
    "count = 0\n",
    "\n",
    "if n != len(prt):\n",
    "    print('Invalid Input')\n",
    "else:\n",
    "    for times in prt:\n",
    "        if 5 - int(times) >= k:\n",
    "            count += 1\n",
    "\n",
    "    print(count//3)"
   ]
  },
  {
   "cell_type": "code",
   "execution_count": 17,
   "id": "176ecf5b",
   "metadata": {},
   "outputs": [
    {
     "name": "stdout",
     "output_type": "stream",
     "text": [
      "{'a': 400, 'b': 300, 'c': 200, 'd': 700, 'e': 200}\n",
      "Values (200, 300, 400, 700)\n"
     ]
    }
   ],
   "source": [
    "#Dictionary & Tuple 1\n",
    "\n",
    "dict1 = 'a: 100, b: 100, c: 200, d: 300'.split(', ')\n",
    "dict2 = 'a: 300, b: 200, d: 400, e: 200'.split(', ')\n",
    "temp1 = {}\n",
    "temp2 = {}\n",
    "\n",
    "for ele in dict1:\n",
    "    ele = ele.split(': ')\n",
    "    temp1[ele[0]] = int(ele[1])\n",
    "for ele in dict2:\n",
    "    ele = ele.split(': ')\n",
    "    temp2[ele[0]] = int(ele[1])\n",
    "dict1 = {}\n",
    "\n",
    "for ele in temp1:\n",
    "    if ele in temp2:\n",
    "        dict1[ele] = temp2[ele] + temp1[ele]\n",
    "    else:\n",
    "        dict1[ele] = temp1[ele]\n",
    "for ele in temp2:\n",
    "    if ele not in dict1:\n",
    "        dict1[ele] = temp2[ele]\n",
    "\n",
    "print(dict1)\n",
    "\n",
    "temp1 = list(dict1.values())\n",
    "\n",
    "for idx1 in range(len(temp1)-1):\n",
    "    sml = idx1\n",
    "    for idx2 in range(idx1+1,len(temp1)):\n",
    "        if temp1[sml] > temp1[idx2]:\n",
    "            sml = idx2\n",
    "    temp1[sml],temp1[idx1] = temp1[idx1], temp1[sml]\n",
    "\n",
    "temp2 = []\n",
    "for ele in temp1:\n",
    "    if ele not in temp2:\n",
    "        temp2.append(ele)\n",
    "        \n",
    "print('Values', tuple(temp2))"
   ]
  },
  {
   "cell_type": "code",
   "execution_count": null,
   "id": "773966af",
   "metadata": {},
   "outputs": [],
   "source": [
    "#Dictionary & Tuple 2\n",
    "\n",
    "dict1 = {}\n",
    "while True:\n",
    "    num = input()\n",
    "    if num == 'STOP':\n",
    "        break\n",
    "    else:\n",
    "        if num not in dict1:\n",
    "            dict1[num] = 1\n",
    "        else:\n",
    "            dict1[num] += 1\n",
    "for k, v in dict1.items():\n",
    "    print(f'{int(k)} - {v} times')"
   ]
  },
  {
   "cell_type": "code",
   "execution_count": 11,
   "id": "abbf694a",
   "metadata": {},
   "outputs": [
    {
     "name": "stdout",
     "output_type": "stream",
     "text": [
      "{'value1': ['key1', 'key3'], 'value2': ['key2']}\n"
     ]
    }
   ],
   "source": [
    "#Dictionary & Tuple 3\n",
    "\n",
    "temp = 'key1 : value1, key2 : value2, key3 : value1'.split(', ')\n",
    "dict1 = {}\n",
    "\n",
    "for ele in temp:\n",
    "    ele = ele.split(' : ')\n",
    "    if ele[1] not in dict1:\n",
    "        dict1[ele[1]] = [ele[0]]\n",
    "    else:\n",
    "        dict1[ele[1]].append(ele[0])\n",
    "print(dict1)"
   ]
  },
  {
   "cell_type": "code",
   "execution_count": 19,
   "id": "bd77a3b1",
   "metadata": {},
   "outputs": [],
   "source": [
    "#Dictionary & Tuple 4\n",
    "\n",
    "dictt = {1:['.',',','?','!',':'],2:['a','b','c'],3:['d','e','f'],4:['g','h','i'],5:['j','k','l'],6:['m','n','o'],7:['p','q','r','s'],8:['t','u','v'],9:['w','x','y','z'],0:[' ']}\n",
    "msg = input().lower()\n",
    "msg1 = ''\n",
    "for x in msg:\n",
    "    for keys, values in dictt.items():\n",
    "        if x in values:\n",
    "            msg1 += str(keys)*(values.index(x)+1)\n",
    "print(msg1)"
   ]
  },
  {
   "cell_type": "code",
   "execution_count": 20,
   "id": "6667e03d",
   "metadata": {},
   "outputs": [
    {
     "name": "stdout",
     "output_type": "stream",
     "text": [
      "Score is 31.35. You are Obese\n"
     ]
    }
   ],
   "source": [
    "#Function 1\n",
    "\n",
    "def BMI(h,w):\n",
    "    bmi = round(w/((h/100)**2), 2)\n",
    "    if bmi < 18.5:\n",
    "        msg = f'Score is {bmi}. You are Underweight'\n",
    "    elif 18.5 <= bmi <= 24.9:\n",
    "        msg = f'Score is {bmi}. You are Normal'\n",
    "    elif 25 <= bmi <= 30:\n",
    "        msg = f'Score is {bmi}. You are Overweight'\n",
    "    elif bmi > 30:\n",
    "        msg = f'Score is {bmi}. You are Obese'\n",
    "    print(msg)\n",
    "\n",
    "BMI(175, 96)"
   ]
  },
  {
   "cell_type": "code",
   "execution_count": 21,
   "id": "a9d3e9ca",
   "metadata": {},
   "outputs": [
    {
     "name": "stdout",
     "output_type": "stream",
     "text": [
      "20\n"
     ]
    }
   ],
   "source": [
    "#Function 2\n",
    "\n",
    "def divisoradder(min, max, divisor):\n",
    "    sum = 0\n",
    "    for x in range(min,max):\n",
    "        if x % divisor == 0 :\n",
    "            sum += x\n",
    "    print(sum)\n",
    "divisoradder(0,10,2)"
   ]
  },
  {
   "cell_type": "code",
   "execution_count": 34,
   "id": "6254f007",
   "metadata": {},
   "outputs": [
    {
     "name": "stdout",
     "output_type": "stream",
     "text": [
      "243.6\n"
     ]
    }
   ],
   "source": [
    "#Function 3\n",
    "def picecalculator(name, place = 'Mohakhali'):\n",
    "    prices = {'BBQ Chicken Cheese Burger': 250, 'Beef Burger' : 170, 'Naga Drums':200}\n",
    "    if place == 'Mohakhali':\n",
    "        price = 40 + prices[name] + prices[name]*0.08\n",
    "    else:\n",
    "        price = 60 + prices[name] + prices[name]*0.08\n",
    "    print(price)\n",
    "picecalculator('Beef Burger', \"Dhanmondi\")"
   ]
  },
  {
   "cell_type": "code",
   "execution_count": 12,
   "id": "83b6bc80",
   "metadata": {},
   "outputs": [
    {
     "name": "stdout",
     "output_type": "stream",
     "text": [
      "Changed : bob@sheba.xyz\n"
     ]
    }
   ],
   "source": [
    "#Function 4\n",
    "def replace_domain(email, new, old = None):\n",
    "    index = email.index('@')\n",
    "    if email[index+1:] == new:\n",
    "        print(\"unchanged :\", email)\n",
    "    elif email[index+1:] == old :\n",
    "        print(f'Changed : {email[:index+1]}{new}')\n",
    "replace_domain('bob@kajj.com', 'sheba.xyz', 'kajj.com')"
   ]
  },
  {
   "cell_type": "code",
   "execution_count": 13,
   "id": "ac7d2a39",
   "metadata": {},
   "outputs": [
    {
     "name": "stdout",
     "output_type": "stream",
     "text": [
      "Not a palindrome\n"
     ]
    }
   ],
   "source": [
    "#Function 5\n",
    "\n",
    "def palindrome(sen):\n",
    "    temp = ''\n",
    "    for word in sen:\n",
    "        if word != ' ':\n",
    "            temp += word\n",
    "    if temp == temp[-1::-1]:\n",
    "        print('Palindrome')\n",
    "    else:\n",
    "        print('Not a palindrome')\n",
    "palindrome('hello')"
   ]
  },
  {
   "cell_type": "code",
   "execution_count": 16,
   "id": "1fc2d762",
   "metadata": {},
   "outputs": [
    {
     "name": "stdout",
     "output_type": "stream",
     "text": [
      "Sentence.              This is another sentence.\n"
     ]
    }
   ],
   "source": [
    "#Function 6\n",
    "\n",
    "def capitalize(sen):\n",
    "    new_string = ''\n",
    "    x = 0\n",
    "    while x < len(sen):\n",
    "        if x == 0 or (sen[x] == 'i' and (sen[x+1] in ' .,?!') and sen[x-1] == ' '):\n",
    "            new_string += sen[x].upper()\n",
    "            x += 1\n",
    "        elif sen[x] in '.?!':\n",
    "            new_string += sen[x]\n",
    "            count = 1\n",
    "            for z in range(x+1,len(sen)):\n",
    "                count += 1\n",
    "                if ord(sen[z]) in range(65,91) or ord(sen[z]) in range(97,123):\n",
    "                    new_string += sen[z].upper()\n",
    "                    break\n",
    "                else:\n",
    "                    new_string += sen[z]\n",
    "            x += count\n",
    "        else:\n",
    "            new_string += sen[x]\n",
    "            x += 1\n",
    "    print(new_string)\n",
    "capitalize('sentence.              this is another sentence.')\n"
   ]
  },
  {
   "cell_type": "code",
   "execution_count": null,
   "id": "057c6df0",
   "metadata": {},
   "outputs": [],
   "source": []
  }
 ],
 "metadata": {
  "kernelspec": {
   "display_name": "Python 3 (ipykernel)",
   "language": "python",
   "name": "python3"
  },
  "language_info": {
   "codemirror_mode": {
    "name": "ipython",
    "version": 3
   },
   "file_extension": ".py",
   "mimetype": "text/x-python",
   "name": "python",
   "nbconvert_exporter": "python",
   "pygments_lexer": "ipython3",
   "version": "3.9.7"
  }
 },
 "nbformat": 4,
 "nbformat_minor": 5
}
